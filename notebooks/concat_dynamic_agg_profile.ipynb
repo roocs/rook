{
 "cells": [
  {
   "cell_type": "markdown",
   "id": "8bf0b5de-3fa9-4a9f-83e8-4a7e798ce727",
   "metadata": {},
   "source": [
    "# Memory profile of decadal dynamic with aggregation\n",
    "https://coderzcolumn.com/tutorials/python/how-to-profile-memory-usage-in-python-using-memory-profiler"
   ]
  },
  {
   "cell_type": "code",
   "execution_count": 1,
   "id": "e9ec0192-b2dd-4048-9d89-bb2dfab37890",
   "metadata": {},
   "outputs": [],
   "source": [
    "%load_ext memory_profiler"
   ]
  },
  {
   "cell_type": "code",
   "execution_count": 2,
   "id": "422f3435-6640-4901-a4a8-0a05f67c96ed",
   "metadata": {},
   "outputs": [],
   "source": [
    "import time"
   ]
  },
  {
   "cell_type": "code",
   "execution_count": 3,
   "id": "6d82872b-34b6-4283-b926-d357bd8914dc",
   "metadata": {},
   "outputs": [],
   "source": [
    "from decadal_dynamic_agg import get_decdal_dynamic_agg"
   ]
  },
  {
   "cell_type": "code",
   "execution_count": 4,
   "id": "3fd80f75-7a08-41d9-a0f2-5e34a33dfcdf",
   "metadata": {},
   "outputs": [],
   "source": [
    "base_dir = \"/Users/pingu/data/cmip6-decadal/orig/day\""
   ]
  },
  {
   "cell_type": "markdown",
   "id": "32f3f10f-ff0b-4a13-accd-0efeb2adbd9c",
   "metadata": {},
   "source": [
    "## subset one year"
   ]
  },
  {
   "cell_type": "code",
   "execution_count": 5,
   "id": "8eb7376e-60a9-430d-8a37-e66328b348bf",
   "metadata": {},
   "outputs": [],
   "source": [
    "start = time.time()"
   ]
  },
  {
   "cell_type": "code",
   "execution_count": 6,
   "id": "159a3469-9c8b-4458-8f62-b25ec72c5e08",
   "metadata": {},
   "outputs": [
    {
     "name": "stdout",
     "output_type": "stream",
     "text": [
      "Filename: /Users/pingu/Documents/GitHub/roocs/rook/notebooks/decadal_dynamic_agg.py\n",
      "\n",
      "Line #    Mem usage    Increment  Occurrences   Line Contents\n",
      "=============================================================\n",
      "     7    183.6 MiB    183.6 MiB           1   @profile\n",
      "     8                                         def get_decdal_dynamic_agg(basedir, time=None):\n",
      "     9    183.6 MiB      0.0 MiB           1       data_dir = Path(basedir)\n",
      "    10    183.6 MiB      0.0 MiB           1       paths = sorted(data_dir.glob(\"**/*.nc\"))\n",
      "    11                                         \n",
      "    12                                             # aggregation\n",
      "    13    183.6 MiB      0.0 MiB           1       with xr.open_mfdataset(\n",
      "    14    183.6 MiB      0.0 MiB           1           paths,\n",
      "    15    183.6 MiB      0.0 MiB           1           concat_dim=\"realization\",\n",
      "    16    183.6 MiB      0.0 MiB           1           combine=\"nested\",\n",
      "    17    287.6 MiB    104.0 MiB           1           chunks={\"realization\": 10, \"time\": 10}, \n",
      "    18                                                 # parallel=True,\n",
      "    19                                                 # preprocess=lambda ds: ds.isel(time=0)\n",
      "    20    287.6 MiB      0.0 MiB           1       ) as ds:\n",
      "    21                                                 # average\n",
      "    22    288.2 MiB      0.6 MiB           1           ds_avg = ds.mean(dim=\"realization\", skipna=True, keep_attrs=True)\n",
      "    23                                                 # select time\n",
      "    24    288.2 MiB      0.0 MiB           1           if time is not None:\n",
      "    25    288.3 MiB      0.1 MiB           1               ds_avg.isel(time=time)\n",
      "    26                                                 # write output\n",
      "    27    302.5 MiB     14.2 MiB           1           ds_avg.to_netcdf(\"out/dynamic_agg.nc\")\n",
      "\n",
      "\n",
      "\n"
     ]
    },
    {
     "data": {
      "text/plain": [
       "Filename: /usr/local/Caskroom/mambaforge/base/envs/rook/lib/python3.7/site-packages/memory_profiler.py\n",
       "\n",
       "Line #    Mem usage    Increment  Occurrences   Line Contents\n",
       "=============================================================\n",
       "  1183    183.6 MiB    183.6 MiB           1               @wraps(wrapped=func)\n",
       "  1184                                                     def wrapper(*args, **kwargs):\n",
       "  1185    183.6 MiB      0.0 MiB           1                   prof = get_prof()\n",
       "  1186    297.3 MiB    113.7 MiB           1                   val = prof(func)(*args, **kwargs)\n",
       "  1187    297.3 MiB      0.0 MiB           1                   show_results_bound(prof)\n",
       "  1188    297.3 MiB      0.0 MiB           1                   return val"
      ]
     },
     "metadata": {},
     "output_type": "display_data"
    }
   ],
   "source": [
    "%mprun -f get_decdal_dynamic_agg get_decdal_dynamic_agg(base_dir, time=slice(0, 12))"
   ]
  },
  {
   "cell_type": "code",
   "execution_count": 7,
   "id": "ac1bc8da-910a-4694-b1b7-561daf0a1e05",
   "metadata": {},
   "outputs": [
    {
     "name": "stdout",
     "output_type": "stream",
     "text": [
      "75.61421728134155 secs\n"
     ]
    }
   ],
   "source": [
    "print(f\"{time.time() - start} secs\")"
   ]
  },
  {
   "cell_type": "markdown",
   "id": "70ff978e-a56d-465f-9ea2-fb4823aa73f1",
   "metadata": {},
   "source": [
    "## complete time range"
   ]
  },
  {
   "cell_type": "code",
   "execution_count": 8,
   "id": "bc17fabf-9a09-4f13-9bee-896f43a64a53",
   "metadata": {},
   "outputs": [],
   "source": [
    "start = time.time()"
   ]
  },
  {
   "cell_type": "code",
   "execution_count": 9,
   "id": "ebb04a06-f757-4e3a-833c-a687d36da2a2",
   "metadata": {},
   "outputs": [
    {
     "name": "stdout",
     "output_type": "stream",
     "text": [
      "Filename: /Users/pingu/Documents/GitHub/roocs/rook/notebooks/decadal_dynamic_agg.py\n",
      "\n",
      "Line #    Mem usage    Increment  Occurrences   Line Contents\n",
      "=============================================================\n",
      "     7    297.3 MiB    297.3 MiB           1   @profile\n",
      "     8                                         def get_decdal_dynamic_agg(basedir, time=None):\n",
      "     9    297.3 MiB      0.0 MiB           1       data_dir = Path(basedir)\n",
      "    10    297.3 MiB      0.0 MiB           1       paths = sorted(data_dir.glob(\"**/*.nc\"))\n",
      "    11                                         \n",
      "    12                                             # aggregation\n",
      "    13    297.3 MiB      0.0 MiB           1       with xr.open_mfdataset(\n",
      "    14    297.3 MiB      0.0 MiB           1           paths,\n",
      "    15    297.3 MiB      0.0 MiB           1           concat_dim=\"realization\",\n",
      "    16    297.3 MiB      0.0 MiB           1           combine=\"nested\",\n",
      "    17    328.5 MiB     31.2 MiB           1           chunks={\"realization\": 10, \"time\": 10}, \n",
      "    18                                                 # parallel=True,\n",
      "    19                                                 # preprocess=lambda ds: ds.isel(time=0)\n",
      "    20    328.5 MiB      0.0 MiB           1       ) as ds:\n",
      "    21                                                 # average\n",
      "    22    328.5 MiB      0.0 MiB           1           ds_avg = ds.mean(dim=\"realization\", skipna=True, keep_attrs=True)\n",
      "    23                                                 # select time\n",
      "    24    328.5 MiB      0.0 MiB           1           if time is not None:\n",
      "    25                                                     ds_avg.isel(time=time)\n",
      "    26                                                 # write output\n",
      "    27    327.0 MiB     -1.5 MiB           1           ds_avg.to_netcdf(\"out/dynamic_agg.nc\")\n",
      "\n",
      "\n",
      "\n"
     ]
    },
    {
     "data": {
      "text/plain": [
       "Filename: /usr/local/Caskroom/mambaforge/base/envs/rook/lib/python3.7/site-packages/memory_profiler.py\n",
       "\n",
       "Line #    Mem usage    Increment  Occurrences   Line Contents\n",
       "=============================================================\n",
       "  1183    297.3 MiB    297.3 MiB           1               @wraps(wrapped=func)\n",
       "  1184                                                     def wrapper(*args, **kwargs):\n",
       "  1185    297.3 MiB      0.0 MiB           1                   prof = get_prof()\n",
       "  1186    324.6 MiB     27.3 MiB           1                   val = prof(func)(*args, **kwargs)\n",
       "  1187    324.6 MiB      0.0 MiB           1                   show_results_bound(prof)\n",
       "  1188    324.6 MiB      0.0 MiB           1                   return val"
      ]
     },
     "metadata": {},
     "output_type": "display_data"
    }
   ],
   "source": [
    "%mprun -f get_decdal_dynamic_agg get_decdal_dynamic_agg(base_dir, time=None)"
   ]
  },
  {
   "cell_type": "code",
   "execution_count": 10,
   "id": "8732ba7b-5838-4821-a030-67426fef4cc2",
   "metadata": {},
   "outputs": [
    {
     "name": "stdout",
     "output_type": "stream",
     "text": [
      "71.83717584609985 secs\n"
     ]
    }
   ],
   "source": [
    "print(f\"{time.time() - start} secs\")"
   ]
  }
 ],
 "metadata": {
  "kernelspec": {
   "display_name": "Python 3 (ipykernel)",
   "language": "python",
   "name": "python3"
  },
  "language_info": {
   "codemirror_mode": {
    "name": "ipython",
    "version": 3
   },
   "file_extension": ".py",
   "mimetype": "text/x-python",
   "name": "python",
   "nbconvert_exporter": "python",
   "pygments_lexer": "ipython3",
   "version": "3.7.12"
  },
  "nbTranslate": {
   "displayLangs": [
    "*"
   ],
   "hotkey": "alt-t",
   "langInMainMenu": true,
   "sourceLang": "en",
   "targetLang": "fr",
   "useGoogleTranslate": true
  }
 },
 "nbformat": 4,
 "nbformat_minor": 5
}
