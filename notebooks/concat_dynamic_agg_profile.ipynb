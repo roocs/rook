{
 "cells": [
  {
   "cell_type": "markdown",
   "id": "8bf0b5de-3fa9-4a9f-83e8-4a7e798ce727",
   "metadata": {},
   "source": [
    "# Memory profile of decadal dynamic with aggregation\n",
    "https://coderzcolumn.com/tutorials/python/how-to-profile-memory-usage-in-python-using-memory-profiler"
   ]
  },
  {
   "cell_type": "code",
   "execution_count": 1,
   "id": "e9ec0192-b2dd-4048-9d89-bb2dfab37890",
   "metadata": {},
   "outputs": [],
   "source": [
    "%load_ext memory_profiler"
   ]
  },
  {
   "cell_type": "code",
   "execution_count": 2,
   "id": "6d82872b-34b6-4283-b926-d357bd8914dc",
   "metadata": {},
   "outputs": [],
   "source": [
    "from decadal_dynamic_agg import get_decdal_dynamic_agg"
   ]
  },
  {
   "cell_type": "markdown",
   "id": "32f3f10f-ff0b-4a13-accd-0efeb2adbd9c",
   "metadata": {},
   "source": [
    "## subset one year"
   ]
  },
  {
   "cell_type": "code",
   "execution_count": 3,
   "id": "159a3469-9c8b-4458-8f62-b25ec72c5e08",
   "metadata": {},
   "outputs": [
    {
     "name": "stdout",
     "output_type": "stream",
     "text": [
      "Filename: /Users/pingu/Documents/GitHub/roocs/rook/notebooks/decadal_dynamic_agg.py\n",
      "\n",
      "Line #    Mem usage    Increment  Occurrences   Line Contents\n",
      "=============================================================\n",
      "     7    183.8 MiB    183.8 MiB           1   @profile\n",
      "     8                                         def get_decdal_dynamic_agg(basedir, time=None):\n",
      "     9    183.8 MiB      0.0 MiB           1       data_dir = Path(basedir)\n",
      "    10    183.8 MiB      0.0 MiB           1       paths = sorted(data_dir.glob(\"**/*.nc\"))\n",
      "    11                                         \n",
      "    12                                             # aggregation\n",
      "    13    204.0 MiB     20.2 MiB           1       with xr.open_mfdataset(paths, concat_dim=\"realization\", combine=\"nested\") as ds:\n",
      "    14                                                 # average\n",
      "    15    204.0 MiB      0.0 MiB           1           ds_avg = ds.mean(dim=\"realization\", skipna=True, keep_attrs=True)\n",
      "    16                                                 # select time\n",
      "    17    204.0 MiB      0.0 MiB           1           if time is not None:\n",
      "    18    204.0 MiB      0.0 MiB           1               ds_avg.isel(time=time)\n",
      "    19                                                 # write output\n",
      "    20    207.0 MiB      3.0 MiB           1           ds_avg.to_netcdf(\"out/dynamic_agg.nc\")\n",
      "\n",
      "\n",
      "\n"
     ]
    },
    {
     "data": {
      "text/plain": [
       "Filename: /usr/local/Caskroom/mambaforge/base/envs/rook/lib/python3.7/site-packages/memory_profiler.py\n",
       "\n",
       "Line #    Mem usage    Increment  Occurrences   Line Contents\n",
       "=============================================================\n",
       "  1183    183.8 MiB    183.8 MiB           1               @wraps(wrapped=func)\n",
       "  1184                                                     def wrapper(*args, **kwargs):\n",
       "  1185    183.8 MiB      0.0 MiB           1                   prof = get_prof()\n",
       "  1186    207.0 MiB     23.2 MiB           1                   val = prof(func)(*args, **kwargs)\n",
       "  1187    207.0 MiB      0.0 MiB           1                   show_results_bound(prof)\n",
       "  1188    207.0 MiB      0.0 MiB           1                   return val"
      ]
     },
     "metadata": {},
     "output_type": "display_data"
    }
   ],
   "source": [
    "%mprun -f get_decdal_dynamic_agg get_decdal_dynamic_agg(\"/Users/pingu/data/cmip6-decadal/orig\", time=slice(0, 12))"
   ]
  },
  {
   "cell_type": "markdown",
   "id": "70ff978e-a56d-465f-9ea2-fb4823aa73f1",
   "metadata": {},
   "source": [
    "## complete time range"
   ]
  },
  {
   "cell_type": "code",
   "execution_count": 4,
   "id": "ebb04a06-f757-4e3a-833c-a687d36da2a2",
   "metadata": {},
   "outputs": [
    {
     "name": "stdout",
     "output_type": "stream",
     "text": [
      "Filename: /Users/pingu/Documents/GitHub/roocs/rook/notebooks/decadal_dynamic_agg.py\n",
      "\n",
      "Line #    Mem usage    Increment  Occurrences   Line Contents\n",
      "=============================================================\n",
      "     7    207.0 MiB    207.0 MiB           1   @profile\n",
      "     8                                         def get_decdal_dynamic_agg(basedir, time=None):\n",
      "     9    207.0 MiB      0.0 MiB           1       data_dir = Path(basedir)\n",
      "    10    207.0 MiB      0.0 MiB           1       paths = sorted(data_dir.glob(\"**/*.nc\"))\n",
      "    11                                         \n",
      "    12                                             # aggregation\n",
      "    13    213.0 MiB      6.0 MiB           1       with xr.open_mfdataset(paths, concat_dim=\"realization\", combine=\"nested\") as ds:\n",
      "    14                                                 # average\n",
      "    15    213.0 MiB      0.0 MiB           1           ds_avg = ds.mean(dim=\"realization\", skipna=True, keep_attrs=True)\n",
      "    16                                                 # select time\n",
      "    17    213.0 MiB      0.0 MiB           1           if time is not None:\n",
      "    18                                                     ds_avg.isel(time=time)\n",
      "    19                                                 # write output\n",
      "    20    210.7 MiB     -2.4 MiB           1           ds_avg.to_netcdf(\"out/dynamic_agg.nc\")\n",
      "\n",
      "\n",
      "\n"
     ]
    },
    {
     "data": {
      "text/plain": [
       "Filename: /usr/local/Caskroom/mambaforge/base/envs/rook/lib/python3.7/site-packages/memory_profiler.py\n",
       "\n",
       "Line #    Mem usage    Increment  Occurrences   Line Contents\n",
       "=============================================================\n",
       "  1183    207.0 MiB    207.0 MiB           1               @wraps(wrapped=func)\n",
       "  1184                                                     def wrapper(*args, **kwargs):\n",
       "  1185    207.0 MiB      0.0 MiB           1                   prof = get_prof()\n",
       "  1186    210.7 MiB      3.7 MiB           1                   val = prof(func)(*args, **kwargs)\n",
       "  1187    210.7 MiB      0.0 MiB           1                   show_results_bound(prof)\n",
       "  1188    210.7 MiB      0.0 MiB           1                   return val"
      ]
     },
     "metadata": {},
     "output_type": "display_data"
    }
   ],
   "source": [
    "%mprun -f get_decdal_dynamic_agg get_decdal_dynamic_agg(\"/Users/pingu/data/cmip6-decadal/orig\", time=None)"
   ]
  }
 ],
 "metadata": {
  "kernelspec": {
   "display_name": "Python 3 (ipykernel)",
   "language": "python",
   "name": "python3"
  },
  "language_info": {
   "codemirror_mode": {
    "name": "ipython",
    "version": 3
   },
   "file_extension": ".py",
   "mimetype": "text/x-python",
   "name": "python",
   "nbconvert_exporter": "python",
   "pygments_lexer": "ipython3",
   "version": "3.7.12"
  },
  "nbTranslate": {
   "displayLangs": [
    "*"
   ],
   "hotkey": "alt-t",
   "langInMainMenu": true,
   "sourceLang": "en",
   "targetLang": "fr",
   "useGoogleTranslate": true
  }
 },
 "nbformat": 4,
 "nbformat_minor": 5
}
