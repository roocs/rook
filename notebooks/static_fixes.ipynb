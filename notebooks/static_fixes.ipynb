{
 "cells": [
  {
   "cell_type": "code",
   "execution_count": 1,
   "id": "03018933-660c-41a4-b9ed-782e390d9619",
   "metadata": {},
   "outputs": [],
   "source": [
    "from elasticsearch import Elasticsearch\n",
    "from elasticsearch.helpers import scan"
   ]
  },
  {
   "cell_type": "code",
   "execution_count": 2,
   "id": "267c8a7d-769e-46fc-b689-936032bc45a2",
   "metadata": {},
   "outputs": [],
   "source": [
    "es = Elasticsearch(\"https://elasticsearch.ceda.ac.uk:443\")"
   ]
  },
  {
   "cell_type": "code",
   "execution_count": 4,
   "id": "0fbdd409-0734-4469-bc50-e7d20e65f8e7",
   "metadata": {},
   "outputs": [],
   "source": [
    "fixes = {}\n",
    "\n",
    "for item in scan(es, index=\"c3s-roocs-fix-prop\"):\n",
    "    fixes[item[\"_source\"][\"dataset_id\"]] = item[\"_source\"][\"fixes\"]"
   ]
  },
  {
   "cell_type": "code",
   "execution_count": 5,
   "id": "ef87e4ed-c000-4b98-a1d6-f1c6d5519489",
   "metadata": {},
   "outputs": [
    {
     "data": {
      "text/plain": [
       "13960"
      ]
     },
     "execution_count": 5,
     "metadata": {},
     "output_type": "execute_result"
    }
   ],
   "source": [
    "len(fixes.keys())"
   ]
  },
  {
   "cell_type": "code",
   "execution_count": 12,
   "id": "3ab53433-5ec6-46df-bb31-5200fe5fc7c7",
   "metadata": {},
   "outputs": [
    {
     "data": {
      "text/plain": [
       "'c3s-cmip6.DCPP.EC-Earth-Consortium.EC-Earth3.dcppA-hindcast.s2014-r7i2p1f1.day.pr.gr.v20200508'"
      ]
     },
     "execution_count": 12,
     "metadata": {},
     "output_type": "execute_result"
    }
   ],
   "source": [
    "ds_id = list(fixes.keys())[0]\n",
    "ds_id"
   ]
  },
  {
   "cell_type": "code",
   "execution_count": 14,
   "id": "067bb483-2081-479a-ace3-2f45f0116855",
   "metadata": {},
   "outputs": [
    {
     "data": {
      "text/plain": [
       "[{'fix': {'fix_id': 'VarAttrFix',\n",
       "   'title': 'Apply Fix to Attributes of any Variable',\n",
       "   'description': '\\nEdits or adds the attributes of a given variables e.g. fixing standard name or adding missing standard name\\n\\nTakes a dictionary of fixes with each fix as a key and value pair with the attribute\\nto be changed as the key and what the value should be as the value.\\n\\nFor example:\\n  - inputs:\\n    {\"var_id\": \"lev\",\\n    \"attrs\":\\n        {\"long_name\": \"Dissolved Oxygen Concentration\",\\n        \"standard_name\": \"mole_concentration_of_dissolved_molecular_oxygen_in_sea_water\"}\\n    }\\n',\n",
       "   'category': 'attr_fixes',\n",
       "   'reference_implementation': 'daops.data_utils.attr_utils.edit_var_attrs',\n",
       "   'process_type': 'post_processor',\n",
       "   'operands': {'var_id': 'time', 'attrs': {'long_name': 'valid_time'}},\n",
       "   'source': {'name': 'ceda',\n",
       "    'version': '',\n",
       "    'comments': '',\n",
       "    'url': 'https://github.com/cp4cds/c3s34g_master/tree/master/Decadal'}},\n",
       "  'status': 'published',\n",
       "  'timestamp': '2022-01-10T09:45:11',\n",
       "  'reason': '',\n",
       "  'history': [{'status': 'proposed',\n",
       "    'timestamp': '2022-01-10T13:12:38',\n",
       "    'reason': ''}]},\n",
       " {'fix': {'fix_id': 'GlobalAttrFix',\n",
       "   'title': 'Apply Fix to Global Attributes',\n",
       "   'description': '\\nEdits or adds global attributes e.g. fixing forcing description or institution_id.\\n\\nTakes a dictionary of fixes with each fix as a key and value pair with the attribute\\nto be changed as the key and what the value should be as the value.\\n\\nFor example:\\n  - inputs:\\n    {\"attrs\":\\n        {\"forcing_description\": \"Free text describing the forcings\",\\n        \"physics_description\": \"Free text describing the physics method\"}\\n    },\\n',\n",
       "   'category': 'attr_fixes',\n",
       "   'reference_implementation': 'daops.data_utils.attr_utils.edit_global_attrs',\n",
       "   'process_type': 'post_processor',\n",
       "   'operands': {'attrs': {'forcing_description': 'derive: daops.fix_utils.decadal_utils.get_decadal_model_attr_from_dict: forcing_description',\n",
       "     'physics_description': 'derive: daops.fix_utils.decadal_utils.get_decadal_model_attr_from_dict: physics_description',\n",
       "     'initialization_description': 'derive: daops.fix_utils.decadal_utils.get_decadal_model_attr_from_dict: initialization_description',\n",
       "     'startdate': 'derive: daops.fix_utils.decadal_utils.get_sub_experiment_id',\n",
       "     'sub_experiment_id': 'derive: daops.fix_utils.decadal_utils.get_sub_experiment_id'}},\n",
       "   'source': {'name': 'ceda',\n",
       "    'version': '',\n",
       "    'comments': '',\n",
       "    'url': 'https://github.com/cp4cds/c3s34g_master/tree/master/Decadal'}},\n",
       "  'status': 'published',\n",
       "  'timestamp': '2022-01-10T09:45:11',\n",
       "  'reason': '',\n",
       "  'history': [{'status': 'proposed',\n",
       "    'timestamp': '2022-01-10T13:12:39',\n",
       "    'reason': ''}]},\n",
       " {'fix': {'fix_id': 'AddScalarCoordFix',\n",
       "   'title': 'Add a scalar coordinate',\n",
       "   'description': \"\\nTakes the scalar coordinate to add along with its attributes\\n\\nFor example:\\n  - inputs:\\n    - {'var_id': 'height',\\n       'value': '2.0',\\n       'dtype': 'float64',\\n       'attrs': {'units': 'm',\\n                'standard_name': 'height'},\\n       'encoding': {}\\n       }\\n\\nFix example: ds = ds.assign_coords(height=2.0) will add a scalar height coordinate with a value of 2.0\\nAttributes will be set by attrs: e.g. ds.attrs['units'] = 'm'\\n    \",\n",
       "   'category': 'coord_fixes',\n",
       "   'reference_implementation': 'daops.data_utils.coord_utils.add_scalar_coord',\n",
       "   'process_type': 'post_processor',\n",
       "   'operands': {'var_id': 'reftime',\n",
       "    'value': 'derive: daops.fix_utils.decadal_utils.get_reftime',\n",
       "    'dtype': 'datetime64[ns]',\n",
       "    'attrs': {'long_name': 'Start date of the forecast',\n",
       "     'standard_name': 'forecast_reference_time'},\n",
       "    'encoding': {'dtype': 'int32',\n",
       "     'units': 'days since 1850-01-01',\n",
       "     'calendar': 'derive: daops.fix_utils.decadal_utils.get_time_calendar'}},\n",
       "   'source': {'name': 'ceda',\n",
       "    'version': '',\n",
       "    'comments': '',\n",
       "    'url': 'https://github.com/cp4cds/c3s34g_master/tree/master/Decadal'}},\n",
       "  'status': 'published',\n",
       "  'timestamp': '2022-01-10T09:45:11',\n",
       "  'reason': '',\n",
       "  'history': [{'status': 'proposed',\n",
       "    'timestamp': '2022-01-10T13:12:39',\n",
       "    'reason': ''}]},\n",
       " {'fix': {'fix_id': 'AddCoordFix',\n",
       "   'title': 'Add a coordinate',\n",
       "   'description': '\\nTakes the coordinate to add, along with its attributes.\\n\\nFor example:\\n  - inputs:\\n    - {\\'var_id\\': \\'leadtime\\',\\n       \\'value\\': \"16, 46, 76, 106\",\\n       \\'dim\\': [\\'time\\'],\\n       \\'dtype\\': \\'timedelta64[D]\\',\\n       \\'attrs\\': {\\'long_name\\': \\'Time elapsed since the start of the forecast\\', \\'standard_name\\': \\'forecast_period\\'},\\n       \\'encoding\\': {\\'dtype\\': \\'double\\'}}\\n\\nThis would add a leadtime coordinate, attached to the existing time dimension.\\n    ',\n",
       "   'category': 'coord_fixes',\n",
       "   'reference_implementation': 'daops.data_utils.coord_utils.add_coord',\n",
       "   'process_type': 'post_processor',\n",
       "   'operands': {'var_id': 'leadtime',\n",
       "    'value': 'derive: daops.fix_utils.decadal_utils.get_lead_times',\n",
       "    'dim': ['time'],\n",
       "    'dtype': 'float64',\n",
       "    'attrs': {'long_name': 'Time elapsed since the start of the forecast',\n",
       "     'standard_name': 'forecast_period',\n",
       "     'units': 'days'},\n",
       "    'encoding': {'dtype': 'double'}},\n",
       "   'source': {'name': 'ceda',\n",
       "    'version': '',\n",
       "    'comments': '',\n",
       "    'url': 'https://github.com/cp4cds/c3s34g_master/tree/master/Decadal'}},\n",
       "  'status': 'published',\n",
       "  'timestamp': '2022-01-10T09:45:11',\n",
       "  'reason': '',\n",
       "  'history': [{'status': 'proposed',\n",
       "    'timestamp': '2022-01-10T13:12:39',\n",
       "    'reason': ''}]},\n",
       " {'fix': {'fix_id': 'AddDataVarFix',\n",
       "   'title': 'Add a variable',\n",
       "   'description': \"\\nTakes the variable to add along with its attributes\\n\\nFor example:\\n  - inputs:\\n    - {'var_id': 'realization',\\n       'value': '1',\\n       'dtype': 'int32',\\n       'attrs': {'long_name': 'realization',\\n                 'comment': 'example'}\\n      }\\n\\n    \",\n",
       "   'category': 'var_fixes',\n",
       "   'reference_implementation': 'daops.data_utils.var_utils.add_data_var',\n",
       "   'process_type': 'post_processor',\n",
       "   'operands': {'var_id': 'realization',\n",
       "    'value': '1',\n",
       "    'dtype': 'int32',\n",
       "    'attrs': {'long_name': 'realization',\n",
       "     'comment': 'For more information on the ripf, refer to the variant_label, initialization_description, physics_description and forcing_description global attributes'}},\n",
       "   'source': {'name': 'ceda',\n",
       "    'version': '',\n",
       "    'comments': '',\n",
       "    'url': 'https://github.com/cp4cds/c3s34g_master/tree/master/Decadal'}},\n",
       "  'status': 'published',\n",
       "  'timestamp': '2022-01-10T09:45:11',\n",
       "  'reason': '',\n",
       "  'history': [{'status': 'proposed',\n",
       "    'timestamp': '2022-01-10T13:12:39',\n",
       "    'reason': ''}]},\n",
       " {'fix': {'fix_id': 'RemoveCoordAttrFix',\n",
       "   'title': 'Remove the coordinate attribute added by xarray from specified variables',\n",
       "   'description': '\\n\"Remove the coordinate attribute from variables which is added during manipulation with xarray.\\nTakes the variable ids to remove the attribute from as a list.\\n\\nFor example:\\n    {\"var_ids\": [\"realization\", \"time_bnds\"]\\n    }\\n',\n",
       "   'category': 'attr_fixes',\n",
       "   'reference_implementation': 'daops.data_utils.attr_utils.remove_coord_attr',\n",
       "   'process_type': 'post_processor',\n",
       "   'operands': {'var_ids': 'derive: daops.fix_utils.decadal_utils.get_decadal_bnds_list'},\n",
       "   'source': {'name': 'ceda',\n",
       "    'version': '',\n",
       "    'comments': '',\n",
       "    'url': 'https://github.com/cp4cds/c3s34g_master/tree/master/Decadal'}},\n",
       "  'status': 'published',\n",
       "  'timestamp': '2022-01-10T09:45:11',\n",
       "  'reason': '',\n",
       "  'history': [{'status': 'proposed',\n",
       "    'timestamp': '2022-01-10T13:12:39',\n",
       "    'reason': ''}]}]"
      ]
     },
     "execution_count": 14,
     "metadata": {},
     "output_type": "execute_result"
    }
   ],
   "source": [
    "fix = fixes[ds_id]\n",
    "fix"
   ]
  },
  {
   "cell_type": "code",
   "execution_count": 30,
   "id": "e03bcaf5-4987-4699-b289-2a3f416a69f8",
   "metadata": {},
   "outputs": [],
   "source": [
    "from daops.data_utils.attr_utils import edit_var_attrs, edit_global_attrs, remove_coord_attr\n",
    "from daops.data_utils.coord_utils import add_scalar_coord, add_coord\n",
    "from daops.data_utils.var_utils import add_data_var"
   ]
  },
  {
   "cell_type": "code",
   "execution_count": 22,
   "id": "25619013-e3d5-48ab-a0de-fc51bf3aff45",
   "metadata": {},
   "outputs": [],
   "source": [
    "ds = None"
   ]
  },
  {
   "cell_type": "code",
   "execution_count": 23,
   "id": "60221121-e76c-429a-ac75-82fe05b6f70b",
   "metadata": {},
   "outputs": [
    {
     "ename": "TypeError",
     "evalue": "'NoneType' object is not subscriptable",
     "output_type": "error",
     "traceback": [
      "\u001b[0;31m---------------------------------------------------------------------------\u001b[0m",
      "\u001b[0;31mTypeError\u001b[0m                                 Traceback (most recent call last)",
      "Cell \u001b[0;32mIn[23], line 4\u001b[0m\n\u001b[1;32m      1\u001b[0m \u001b[38;5;66;03m# fix 1\u001b[39;00m\n\u001b[1;32m      3\u001b[0m operands \u001b[38;5;241m=\u001b[39m {\u001b[38;5;124m'\u001b[39m\u001b[38;5;124mvar_id\u001b[39m\u001b[38;5;124m'\u001b[39m: \u001b[38;5;124m'\u001b[39m\u001b[38;5;124mtime\u001b[39m\u001b[38;5;124m'\u001b[39m, \u001b[38;5;124m'\u001b[39m\u001b[38;5;124mattrs\u001b[39m\u001b[38;5;124m'\u001b[39m: {\u001b[38;5;124m'\u001b[39m\u001b[38;5;124mlong_name\u001b[39m\u001b[38;5;124m'\u001b[39m: \u001b[38;5;124m'\u001b[39m\u001b[38;5;124mvalid_time\u001b[39m\u001b[38;5;124m'\u001b[39m}}\n\u001b[0;32m----> 4\u001b[0m \u001b[43medit_var_attrs\u001b[49m\u001b[43m(\u001b[49m\u001b[43mds_id\u001b[49m\u001b[43m,\u001b[49m\u001b[43m \u001b[49m\u001b[43mds\u001b[49m\u001b[43m,\u001b[49m\u001b[43m \u001b[49m\u001b[38;5;241;43m*\u001b[39;49m\u001b[38;5;241;43m*\u001b[39;49m\u001b[43moperands\u001b[49m\u001b[43m)\u001b[49m\n",
      "File \u001b[0;32m/usr/local/Caskroom/mambaforge/base/envs/rook/lib/python3.10/site-packages/daops/data_utils/attr_utils.py:18\u001b[0m, in \u001b[0;36medit_var_attrs\u001b[0;34m(ds_id, ds, **operands)\u001b[0m\n\u001b[1;32m     16\u001b[0m \u001b[38;5;28;01mfor\u001b[39;00m k, v \u001b[38;5;129;01min\u001b[39;00m operands\u001b[38;5;241m.\u001b[39mget(\u001b[38;5;124m\"\u001b[39m\u001b[38;5;124mattrs\u001b[39m\u001b[38;5;124m\"\u001b[39m)\u001b[38;5;241m.\u001b[39mitems():\n\u001b[1;32m     17\u001b[0m     v \u001b[38;5;241m=\u001b[39m handle_derive_str(v, ds_id, ds)\n\u001b[0;32m---> 18\u001b[0m     \u001b[43mds\u001b[49m\u001b[43m[\u001b[49m\u001b[43mvar_id\u001b[49m\u001b[43m]\u001b[49m\u001b[38;5;241m.\u001b[39mattrs[k] \u001b[38;5;241m=\u001b[39m v\n\u001b[1;32m     20\u001b[0m \u001b[38;5;28;01mreturn\u001b[39;00m ds\n",
      "\u001b[0;31mTypeError\u001b[0m: 'NoneType' object is not subscriptable"
     ]
    }
   ],
   "source": [
    "# fix 1\n",
    "\n",
    "operands = {'var_id': 'time', 'attrs': {'long_name': 'valid_time'}}\n",
    "edit_var_attrs(ds_id, ds, **operands)"
   ]
  },
  {
   "cell_type": "code",
   "execution_count": 24,
   "id": "19915ab9-4799-48ee-a4c7-dcdb6596dd86",
   "metadata": {},
   "outputs": [
    {
     "ename": "AttributeError",
     "evalue": "'NoneType' object has no attribute 'attrs'",
     "output_type": "error",
     "traceback": [
      "\u001b[0;31m---------------------------------------------------------------------------\u001b[0m",
      "\u001b[0;31mAttributeError\u001b[0m                            Traceback (most recent call last)",
      "Cell \u001b[0;32mIn[24], line 10\u001b[0m\n\u001b[1;32m      1\u001b[0m \u001b[38;5;66;03m# fix 2\u001b[39;00m\n\u001b[1;32m      2\u001b[0m operands \u001b[38;5;241m=\u001b[39m {\n\u001b[1;32m      3\u001b[0m     \u001b[38;5;124m'\u001b[39m\u001b[38;5;124mattrs\u001b[39m\u001b[38;5;124m'\u001b[39m: {\n\u001b[1;32m      4\u001b[0m         \u001b[38;5;124m'\u001b[39m\u001b[38;5;124mforcing_description\u001b[39m\u001b[38;5;124m'\u001b[39m: \u001b[38;5;124m'\u001b[39m\u001b[38;5;124mderive: daops.fix_utils.decadal_utils.get_decadal_model_attr_from_dict: forcing_description\u001b[39m\u001b[38;5;124m'\u001b[39m,\n\u001b[0;32m   (...)\u001b[0m\n\u001b[1;32m      7\u001b[0m         \u001b[38;5;124m'\u001b[39m\u001b[38;5;124mstartdate\u001b[39m\u001b[38;5;124m'\u001b[39m: \u001b[38;5;124m'\u001b[39m\u001b[38;5;124mderive: daops.fix_utils.decadal_utils.get_sub_experiment_id\u001b[39m\u001b[38;5;124m'\u001b[39m,\n\u001b[1;32m      8\u001b[0m         \u001b[38;5;124m'\u001b[39m\u001b[38;5;124msub_experiment_id\u001b[39m\u001b[38;5;124m'\u001b[39m: \u001b[38;5;124m'\u001b[39m\u001b[38;5;124mderive: daops.fix_utils.decadal_utils.get_sub_experiment_id\u001b[39m\u001b[38;5;124m'\u001b[39m}}\n\u001b[0;32m---> 10\u001b[0m \u001b[43medit_global_attrs\u001b[49m\u001b[43m(\u001b[49m\u001b[43mds_id\u001b[49m\u001b[43m,\u001b[49m\u001b[43m \u001b[49m\u001b[43mds\u001b[49m\u001b[43m,\u001b[49m\u001b[43m \u001b[49m\u001b[38;5;241;43m*\u001b[39;49m\u001b[38;5;241;43m*\u001b[39;49m\u001b[43moperands\u001b[49m\u001b[43m)\u001b[49m\n",
      "File \u001b[0;32m/usr/local/Caskroom/mambaforge/base/envs/rook/lib/python3.10/site-packages/daops/data_utils/attr_utils.py:34\u001b[0m, in \u001b[0;36medit_global_attrs\u001b[0;34m(ds_id, ds, **operands)\u001b[0m\n\u001b[1;32m     32\u001b[0m \u001b[38;5;28;01mfor\u001b[39;00m k, v \u001b[38;5;129;01min\u001b[39;00m operands\u001b[38;5;241m.\u001b[39mget(\u001b[38;5;124m\"\u001b[39m\u001b[38;5;124mattrs\u001b[39m\u001b[38;5;124m\"\u001b[39m)\u001b[38;5;241m.\u001b[39mitems():\n\u001b[1;32m     33\u001b[0m     v \u001b[38;5;241m=\u001b[39m handle_derive_str(v, ds_id, ds)\n\u001b[0;32m---> 34\u001b[0m     \u001b[43mds\u001b[49m\u001b[38;5;241;43m.\u001b[39;49m\u001b[43mattrs\u001b[49m[k] \u001b[38;5;241m=\u001b[39m v\n\u001b[1;32m     36\u001b[0m \u001b[38;5;28;01mreturn\u001b[39;00m ds\n",
      "\u001b[0;31mAttributeError\u001b[0m: 'NoneType' object has no attribute 'attrs'"
     ]
    }
   ],
   "source": [
    "# fix 2\n",
    "operands = {\n",
    "    'attrs': {\n",
    "        'forcing_description': 'derive: daops.fix_utils.decadal_utils.get_decadal_model_attr_from_dict: forcing_description',\n",
    "        'physics_description': 'derive: daops.fix_utils.decadal_utils.get_decadal_model_attr_from_dict: physics_description',\n",
    "        'initialization_description': 'derive: daops.fix_utils.decadal_utils.get_decadal_model_attr_from_dict: initialization_description',\n",
    "        'startdate': 'derive: daops.fix_utils.decadal_utils.get_sub_experiment_id',\n",
    "        'sub_experiment_id': 'derive: daops.fix_utils.decadal_utils.get_sub_experiment_id'}}\n",
    "\n",
    "edit_global_attrs(ds_id, ds, **operands)\n"
   ]
  },
  {
   "cell_type": "code",
   "execution_count": 25,
   "id": "1fae7ac1-846d-4d9b-9f47-3170ca0bbd81",
   "metadata": {},
   "outputs": [
    {
     "ename": "AttributeError",
     "evalue": "'NoneType' object has no attribute 'attrs'",
     "output_type": "error",
     "traceback": [
      "\u001b[0;31m---------------------------------------------------------------------------\u001b[0m",
      "\u001b[0;31mAttributeError\u001b[0m                            Traceback (most recent call last)",
      "Cell \u001b[0;32mIn[25], line 14\u001b[0m\n\u001b[1;32m      1\u001b[0m \u001b[38;5;66;03m# fix 3\u001b[39;00m\n\u001b[1;32m      3\u001b[0m operands \u001b[38;5;241m=\u001b[39m {\n\u001b[1;32m      4\u001b[0m     \u001b[38;5;124m'\u001b[39m\u001b[38;5;124mvar_id\u001b[39m\u001b[38;5;124m'\u001b[39m: \u001b[38;5;124m'\u001b[39m\u001b[38;5;124mreftime\u001b[39m\u001b[38;5;124m'\u001b[39m,\n\u001b[1;32m      5\u001b[0m     \u001b[38;5;124m'\u001b[39m\u001b[38;5;124mvalue\u001b[39m\u001b[38;5;124m'\u001b[39m: \u001b[38;5;124m'\u001b[39m\u001b[38;5;124mderive: daops.fix_utils.decadal_utils.get_reftime\u001b[39m\u001b[38;5;124m'\u001b[39m,\n\u001b[0;32m   (...)\u001b[0m\n\u001b[1;32m     11\u001b[0m      \u001b[38;5;124m'\u001b[39m\u001b[38;5;124munits\u001b[39m\u001b[38;5;124m'\u001b[39m: \u001b[38;5;124m'\u001b[39m\u001b[38;5;124mdays since 1850-01-01\u001b[39m\u001b[38;5;124m'\u001b[39m,\n\u001b[1;32m     12\u001b[0m      \u001b[38;5;124m'\u001b[39m\u001b[38;5;124mcalendar\u001b[39m\u001b[38;5;124m'\u001b[39m: \u001b[38;5;124m'\u001b[39m\u001b[38;5;124mderive: daops.fix_utils.decadal_utils.get_time_calendar\u001b[39m\u001b[38;5;124m'\u001b[39m}}\n\u001b[0;32m---> 14\u001b[0m \u001b[43madd_scalar_coord\u001b[49m\u001b[43m(\u001b[49m\u001b[43mds_id\u001b[49m\u001b[43m,\u001b[49m\u001b[43m \u001b[49m\u001b[43mds\u001b[49m\u001b[43m,\u001b[49m\u001b[43m \u001b[49m\u001b[38;5;241;43m*\u001b[39;49m\u001b[38;5;241;43m*\u001b[39;49m\u001b[43moperands\u001b[49m\u001b[43m)\u001b[49m\n",
      "File \u001b[0;32m/usr/local/Caskroom/mambaforge/base/envs/rook/lib/python3.10/site-packages/daops/data_utils/coord_utils.py:31\u001b[0m, in \u001b[0;36madd_scalar_coord\u001b[0;34m(ds_id, ds, **operands)\u001b[0m\n\u001b[1;32m     28\u001b[0m value \u001b[38;5;241m=\u001b[39m operands\u001b[38;5;241m.\u001b[39mget(\u001b[38;5;124m\"\u001b[39m\u001b[38;5;124mvalue\u001b[39m\u001b[38;5;124m\"\u001b[39m)\n\u001b[1;32m     29\u001b[0m dtype \u001b[38;5;241m=\u001b[39m operands\u001b[38;5;241m.\u001b[39mget(\u001b[38;5;124m\"\u001b[39m\u001b[38;5;124mdtype\u001b[39m\u001b[38;5;124m\"\u001b[39m)\n\u001b[0;32m---> 31\u001b[0m value \u001b[38;5;241m=\u001b[39m \u001b[43mhandle_derive_str\u001b[49m\u001b[43m(\u001b[49m\u001b[43mvalue\u001b[49m\u001b[43m,\u001b[49m\u001b[43m \u001b[49m\u001b[43mds_id\u001b[49m\u001b[43m,\u001b[49m\u001b[43m \u001b[49m\u001b[43mds\u001b[49m\u001b[43m)\u001b[49m\n\u001b[1;32m     32\u001b[0m ds \u001b[38;5;241m=\u001b[39m ds\u001b[38;5;241m.\u001b[39massign_coords({\u001b[38;5;124mf\u001b[39m\u001b[38;5;124m\"\u001b[39m\u001b[38;5;132;01m{\u001b[39;00mvar_id\u001b[38;5;132;01m}\u001b[39;00m\u001b[38;5;124m\"\u001b[39m: np\u001b[38;5;241m.\u001b[39marray(value, dtype\u001b[38;5;241m=\u001b[39mdtype)})\n\u001b[1;32m     34\u001b[0m \u001b[38;5;28;01mfor\u001b[39;00m k, v \u001b[38;5;129;01min\u001b[39;00m operands\u001b[38;5;241m.\u001b[39mget(\u001b[38;5;124m\"\u001b[39m\u001b[38;5;124mattrs\u001b[39m\u001b[38;5;124m\"\u001b[39m)\u001b[38;5;241m.\u001b[39mitems():\n",
      "File \u001b[0;32m/usr/local/Caskroom/mambaforge/base/envs/rook/lib/python3.10/site-packages/daops/data_utils/common_utils.py:12\u001b[0m, in \u001b[0;36mhandle_derive_str\u001b[0;34m(value, ds_id, ds)\u001b[0m\n\u001b[1;32m     10\u001b[0m         \u001b[38;5;28;01mreturn\u001b[39;00m func(ds_id, ds, arg)\n\u001b[1;32m     11\u001b[0m     \u001b[38;5;28;01melse\u001b[39;00m:\n\u001b[0;32m---> 12\u001b[0m         \u001b[38;5;28;01mreturn\u001b[39;00m \u001b[43mfunc\u001b[49m\u001b[43m(\u001b[49m\u001b[43mds_id\u001b[49m\u001b[43m,\u001b[49m\u001b[43m \u001b[49m\u001b[43mds\u001b[49m\u001b[43m)\u001b[49m\n\u001b[1;32m     13\u001b[0m \u001b[38;5;28;01melse\u001b[39;00m:\n\u001b[1;32m     14\u001b[0m     \u001b[38;5;28;01mreturn\u001b[39;00m value\n",
      "File \u001b[0;32m/usr/local/Caskroom/mambaforge/base/envs/rook/lib/python3.10/site-packages/daops/fix_utils/decadal_utils.py:77\u001b[0m, in \u001b[0;36mget_reftime\u001b[0;34m(ds_id, ds)\u001b[0m\n\u001b[1;32m     74\u001b[0m \u001b[38;5;28;01mdef\u001b[39;00m \u001b[38;5;21mget_reftime\u001b[39m(ds_id, ds):\n\u001b[1;32m     75\u001b[0m     default_sd \u001b[38;5;241m=\u001b[39m get_start_date(ds_id, ds)\n\u001b[0;32m---> 77\u001b[0m     start_date \u001b[38;5;241m=\u001b[39m \u001b[43mds\u001b[49m\u001b[38;5;241;43m.\u001b[39;49m\u001b[43mattrs\u001b[49m\u001b[38;5;241m.\u001b[39mget(\u001b[38;5;124m\"\u001b[39m\u001b[38;5;124mstartdate\u001b[39m\u001b[38;5;124m\"\u001b[39m, \u001b[38;5;28;01mNone\u001b[39;00m)\n\u001b[1;32m     79\u001b[0m     \u001b[38;5;28;01mif\u001b[39;00m \u001b[38;5;129;01mnot\u001b[39;00m start_date:\n\u001b[1;32m     80\u001b[0m         start_date \u001b[38;5;241m=\u001b[39m default_sd\n",
      "\u001b[0;31mAttributeError\u001b[0m: 'NoneType' object has no attribute 'attrs'"
     ]
    }
   ],
   "source": [
    "# fix 3\n",
    "\n",
    "operands = {\n",
    "    'var_id': 'reftime',\n",
    "    'value': 'derive: daops.fix_utils.decadal_utils.get_reftime',\n",
    "    'dtype': 'datetime64[ns]',\n",
    "    'attrs': {\n",
    "        'long_name': 'Start date of the forecast',\n",
    "         'standard_name': 'forecast_reference_time'},\n",
    "    'encoding': {'dtype': 'int32',\n",
    "     'units': 'days since 1850-01-01',\n",
    "     'calendar': 'derive: daops.fix_utils.decadal_utils.get_time_calendar'}}\n",
    "\n",
    "add_scalar_coord(ds_id, ds, **operands)"
   ]
  },
  {
   "cell_type": "code",
   "execution_count": 27,
   "id": "7edfe737-1b3f-405e-9007-ecfa052327e8",
   "metadata": {},
   "outputs": [
    {
     "ename": "TypeError",
     "evalue": "add_coord() takes 2 positional arguments but 3 were given",
     "output_type": "error",
     "traceback": [
      "\u001b[0;31m---------------------------------------------------------------------------\u001b[0m",
      "\u001b[0;31mTypeError\u001b[0m                                 Traceback (most recent call last)",
      "Cell \u001b[0;32mIn[27], line 12\u001b[0m\n\u001b[1;32m      1\u001b[0m \u001b[38;5;66;03m# fix 4\u001b[39;00m\n\u001b[1;32m      3\u001b[0m operands \u001b[38;5;241m=\u001b[39m {\u001b[38;5;124m'\u001b[39m\u001b[38;5;124mvar_id\u001b[39m\u001b[38;5;124m'\u001b[39m: \u001b[38;5;124m'\u001b[39m\u001b[38;5;124mleadtime\u001b[39m\u001b[38;5;124m'\u001b[39m,\n\u001b[1;32m      4\u001b[0m     \u001b[38;5;124m'\u001b[39m\u001b[38;5;124mvalue\u001b[39m\u001b[38;5;124m'\u001b[39m: \u001b[38;5;124m'\u001b[39m\u001b[38;5;124mderive: daops.fix_utils.decadal_utils.get_lead_times\u001b[39m\u001b[38;5;124m'\u001b[39m,\n\u001b[1;32m      5\u001b[0m     \u001b[38;5;124m'\u001b[39m\u001b[38;5;124mdim\u001b[39m\u001b[38;5;124m'\u001b[39m: [\u001b[38;5;124m'\u001b[39m\u001b[38;5;124mtime\u001b[39m\u001b[38;5;124m'\u001b[39m],\n\u001b[0;32m   (...)\u001b[0m\n\u001b[1;32m      9\u001b[0m      \u001b[38;5;124m'\u001b[39m\u001b[38;5;124munits\u001b[39m\u001b[38;5;124m'\u001b[39m: \u001b[38;5;124m'\u001b[39m\u001b[38;5;124mdays\u001b[39m\u001b[38;5;124m'\u001b[39m},\n\u001b[1;32m     10\u001b[0m     \u001b[38;5;124m'\u001b[39m\u001b[38;5;124mencoding\u001b[39m\u001b[38;5;124m'\u001b[39m: {\u001b[38;5;124m'\u001b[39m\u001b[38;5;124mdtype\u001b[39m\u001b[38;5;124m'\u001b[39m: \u001b[38;5;124m'\u001b[39m\u001b[38;5;124mdouble\u001b[39m\u001b[38;5;124m'\u001b[39m}}\n\u001b[0;32m---> 12\u001b[0m \u001b[43madd_coord\u001b[49m\u001b[43m(\u001b[49m\u001b[43mds_id\u001b[49m\u001b[43m,\u001b[49m\u001b[43m \u001b[49m\u001b[43mds\u001b[49m\u001b[43m,\u001b[49m\u001b[43m \u001b[49m\u001b[43moperands\u001b[49m\u001b[43m)\u001b[49m\n",
      "\u001b[0;31mTypeError\u001b[0m: add_coord() takes 2 positional arguments but 3 were given"
     ]
    }
   ],
   "source": [
    "# fix 4\n",
    "\n",
    "operands = {'var_id': 'leadtime',\n",
    "    'value': 'derive: daops.fix_utils.decadal_utils.get_lead_times',\n",
    "    'dim': ['time'],\n",
    "    'dtype': 'float64',\n",
    "    'attrs': {'long_name': 'Time elapsed since the start of the forecast',\n",
    "     'standard_name': 'forecast_period',\n",
    "     'units': 'days'},\n",
    "    'encoding': {'dtype': 'double'}}\n",
    "\n",
    "add_coord(ds_id, ds, operands)"
   ]
  },
  {
   "cell_type": "code",
   "execution_count": 29,
   "id": "7611bfeb-30d7-4cab-b27e-03ce5cebda36",
   "metadata": {},
   "outputs": [
    {
     "ename": "AttributeError",
     "evalue": "'NoneType' object has no attribute 'assign'",
     "output_type": "error",
     "traceback": [
      "\u001b[0;31m---------------------------------------------------------------------------\u001b[0m",
      "\u001b[0;31mAttributeError\u001b[0m                            Traceback (most recent call last)",
      "Cell \u001b[0;32mIn[29], line 9\u001b[0m\n\u001b[1;32m      1\u001b[0m \u001b[38;5;66;03m# fix 5\u001b[39;00m\n\u001b[1;32m      2\u001b[0m operands \u001b[38;5;241m=\u001b[39m {\n\u001b[1;32m      3\u001b[0m     \u001b[38;5;124m'\u001b[39m\u001b[38;5;124mvar_id\u001b[39m\u001b[38;5;124m'\u001b[39m: \u001b[38;5;124m'\u001b[39m\u001b[38;5;124mrealization\u001b[39m\u001b[38;5;124m'\u001b[39m,\n\u001b[1;32m      4\u001b[0m     \u001b[38;5;124m'\u001b[39m\u001b[38;5;124mvalue\u001b[39m\u001b[38;5;124m'\u001b[39m: \u001b[38;5;124m'\u001b[39m\u001b[38;5;124m1\u001b[39m\u001b[38;5;124m'\u001b[39m,\n\u001b[1;32m      5\u001b[0m     \u001b[38;5;124m'\u001b[39m\u001b[38;5;124mdtype\u001b[39m\u001b[38;5;124m'\u001b[39m: \u001b[38;5;124m'\u001b[39m\u001b[38;5;124mint32\u001b[39m\u001b[38;5;124m'\u001b[39m,\n\u001b[1;32m      6\u001b[0m     \u001b[38;5;124m'\u001b[39m\u001b[38;5;124mattrs\u001b[39m\u001b[38;5;124m'\u001b[39m: {\u001b[38;5;124m'\u001b[39m\u001b[38;5;124mlong_name\u001b[39m\u001b[38;5;124m'\u001b[39m: \u001b[38;5;124m'\u001b[39m\u001b[38;5;124mrealization\u001b[39m\u001b[38;5;124m'\u001b[39m,\n\u001b[1;32m      7\u001b[0m     \u001b[38;5;124m'\u001b[39m\u001b[38;5;124mcomment\u001b[39m\u001b[38;5;124m'\u001b[39m: \u001b[38;5;124m'\u001b[39m\u001b[38;5;124mFor more information on the ripf, refer to the variant_label, initialization_description, physics_description and forcing_description global attributes\u001b[39m\u001b[38;5;124m'\u001b[39m}}\n\u001b[0;32m----> 9\u001b[0m \u001b[43madd_data_var\u001b[49m\u001b[43m(\u001b[49m\u001b[43mds_id\u001b[49m\u001b[43m,\u001b[49m\u001b[43m \u001b[49m\u001b[43mds\u001b[49m\u001b[43m,\u001b[49m\u001b[43m \u001b[49m\u001b[38;5;241;43m*\u001b[39;49m\u001b[38;5;241;43m*\u001b[39;49m\u001b[43moperands\u001b[49m\u001b[43m)\u001b[49m\n",
      "File \u001b[0;32m/usr/local/Caskroom/mambaforge/base/envs/rook/lib/python3.10/site-packages/daops/data_utils/var_utils.py:15\u001b[0m, in \u001b[0;36madd_data_var\u001b[0;34m(ds_id, ds, **operands)\u001b[0m\n\u001b[1;32m     12\u001b[0m value \u001b[38;5;241m=\u001b[39m operands\u001b[38;5;241m.\u001b[39mget(\u001b[38;5;124m\"\u001b[39m\u001b[38;5;124mvalue\u001b[39m\u001b[38;5;124m\"\u001b[39m)\n\u001b[1;32m     13\u001b[0m dtype \u001b[38;5;241m=\u001b[39m operands\u001b[38;5;241m.\u001b[39mget(\u001b[38;5;124m\"\u001b[39m\u001b[38;5;124mdtype\u001b[39m\u001b[38;5;124m\"\u001b[39m)\n\u001b[0;32m---> 15\u001b[0m ds \u001b[38;5;241m=\u001b[39m \u001b[43mds\u001b[49m\u001b[38;5;241;43m.\u001b[39;49m\u001b[43massign\u001b[49m({\u001b[38;5;124mf\u001b[39m\u001b[38;5;124m\"\u001b[39m\u001b[38;5;132;01m{\u001b[39;00mvar_id\u001b[38;5;132;01m}\u001b[39;00m\u001b[38;5;124m\"\u001b[39m: np\u001b[38;5;241m.\u001b[39marray(value, dtype\u001b[38;5;241m=\u001b[39mdtype)})\n\u001b[1;32m     17\u001b[0m \u001b[38;5;28;01mfor\u001b[39;00m k, v \u001b[38;5;129;01min\u001b[39;00m operands\u001b[38;5;241m.\u001b[39mget(\u001b[38;5;124m\"\u001b[39m\u001b[38;5;124mattrs\u001b[39m\u001b[38;5;124m\"\u001b[39m)\u001b[38;5;241m.\u001b[39mitems():\n\u001b[1;32m     18\u001b[0m     ds[var_id]\u001b[38;5;241m.\u001b[39mattrs[k] \u001b[38;5;241m=\u001b[39m v\n",
      "\u001b[0;31mAttributeError\u001b[0m: 'NoneType' object has no attribute 'assign'"
     ]
    }
   ],
   "source": [
    "# fix 5\n",
    "operands = {\n",
    "    'var_id': 'realization',\n",
    "    'value': '1',\n",
    "    'dtype': 'int32',\n",
    "    'attrs': {'long_name': 'realization',\n",
    "    'comment': 'For more information on the ripf, refer to the variant_label, initialization_description, physics_description and forcing_description global attributes'}}\n",
    "\n",
    "add_data_var(ds_id, ds, **operands)\n"
   ]
  },
  {
   "cell_type": "code",
   "execution_count": 31,
   "id": "dcaa7d20-75a9-4821-8437-3804e7ba24e7",
   "metadata": {},
   "outputs": [
    {
     "ename": "AttributeError",
     "evalue": "'NoneType' object has no attribute 'cf'",
     "output_type": "error",
     "traceback": [
      "\u001b[0;31m---------------------------------------------------------------------------\u001b[0m",
      "\u001b[0;31mAttributeError\u001b[0m                            Traceback (most recent call last)",
      "Cell \u001b[0;32mIn[31], line 4\u001b[0m\n\u001b[1;32m      1\u001b[0m \u001b[38;5;66;03m# fix 6\u001b[39;00m\n\u001b[1;32m      2\u001b[0m operands \u001b[38;5;241m=\u001b[39m {\u001b[38;5;124m'\u001b[39m\u001b[38;5;124mvar_ids\u001b[39m\u001b[38;5;124m'\u001b[39m: \u001b[38;5;124m'\u001b[39m\u001b[38;5;124mderive: daops.fix_utils.decadal_utils.get_decadal_bnds_list\u001b[39m\u001b[38;5;124m'\u001b[39m}\n\u001b[0;32m----> 4\u001b[0m \u001b[43mremove_coord_attr\u001b[49m\u001b[43m(\u001b[49m\u001b[43mds_id\u001b[49m\u001b[43m,\u001b[49m\u001b[43m \u001b[49m\u001b[43mds\u001b[49m\u001b[43m,\u001b[49m\u001b[43m \u001b[49m\u001b[38;5;241;43m*\u001b[39;49m\u001b[38;5;241;43m*\u001b[39;49m\u001b[43moperands\u001b[49m\u001b[43m)\u001b[49m\n",
      "File \u001b[0;32m/usr/local/Caskroom/mambaforge/base/envs/rook/lib/python3.10/site-packages/daops/data_utils/attr_utils.py:65\u001b[0m, in \u001b[0;36mremove_coord_attr\u001b[0;34m(ds_id, ds, **operands)\u001b[0m\n\u001b[1;32m     57\u001b[0m \u001b[38;5;28;01mdef\u001b[39;00m \u001b[38;5;21mremove_coord_attr\u001b[39m(ds_id, ds, \u001b[38;5;241m*\u001b[39m\u001b[38;5;241m*\u001b[39moperands):\n\u001b[1;32m     58\u001b[0m     \u001b[38;5;124;03m\"\"\"\u001b[39;00m\n\u001b[1;32m     59\u001b[0m \u001b[38;5;124;03m    :param ds: Xarray DataSet\u001b[39;00m\n\u001b[1;32m     60\u001b[0m \u001b[38;5;124;03m    :param operands: sequence of arguments\u001b[39;00m\n\u001b[0;32m   (...)\u001b[0m\n\u001b[1;32m     63\u001b[0m \u001b[38;5;124;03m    Remove coordinate attribute that is added by xarray, for specified variables.\u001b[39;00m\n\u001b[1;32m     64\u001b[0m \u001b[38;5;124;03m    \"\"\"\u001b[39;00m\n\u001b[0;32m---> 65\u001b[0m     var_ids \u001b[38;5;241m=\u001b[39m \u001b[43mhandle_derive_str\u001b[49m\u001b[43m(\u001b[49m\u001b[43moperands\u001b[49m\u001b[38;5;241;43m.\u001b[39;49m\u001b[43mget\u001b[49m\u001b[43m(\u001b[49m\u001b[38;5;124;43m\"\u001b[39;49m\u001b[38;5;124;43mvar_ids\u001b[39;49m\u001b[38;5;124;43m\"\u001b[39;49m\u001b[43m)\u001b[49m\u001b[43m,\u001b[49m\u001b[43m \u001b[49m\u001b[43mds_id\u001b[49m\u001b[43m,\u001b[49m\u001b[43m \u001b[49m\u001b[43mds\u001b[49m\u001b[43m)\u001b[49m\n\u001b[1;32m     67\u001b[0m     \u001b[38;5;28;01mfor\u001b[39;00m v \u001b[38;5;129;01min\u001b[39;00m var_ids:\n\u001b[1;32m     68\u001b[0m         ds[v]\u001b[38;5;241m.\u001b[39mencoding[\u001b[38;5;124m\"\u001b[39m\u001b[38;5;124mcoordinates\u001b[39m\u001b[38;5;124m\"\u001b[39m] \u001b[38;5;241m=\u001b[39m \u001b[38;5;28;01mNone\u001b[39;00m\n",
      "File \u001b[0;32m/usr/local/Caskroom/mambaforge/base/envs/rook/lib/python3.10/site-packages/daops/data_utils/common_utils.py:12\u001b[0m, in \u001b[0;36mhandle_derive_str\u001b[0;34m(value, ds_id, ds)\u001b[0m\n\u001b[1;32m     10\u001b[0m         \u001b[38;5;28;01mreturn\u001b[39;00m func(ds_id, ds, arg)\n\u001b[1;32m     11\u001b[0m     \u001b[38;5;28;01melse\u001b[39;00m:\n\u001b[0;32m---> 12\u001b[0m         \u001b[38;5;28;01mreturn\u001b[39;00m \u001b[43mfunc\u001b[49m\u001b[43m(\u001b[49m\u001b[43mds_id\u001b[49m\u001b[43m,\u001b[49m\u001b[43m \u001b[49m\u001b[43mds\u001b[49m\u001b[43m)\u001b[49m\n\u001b[1;32m     13\u001b[0m \u001b[38;5;28;01melse\u001b[39;00m:\n\u001b[1;32m     14\u001b[0m     \u001b[38;5;28;01mreturn\u001b[39;00m value\n",
      "File \u001b[0;32m/usr/local/Caskroom/mambaforge/base/envs/rook/lib/python3.10/site-packages/daops/fix_utils/decadal_utils.py:116\u001b[0m, in \u001b[0;36mget_decadal_bnds_list\u001b[0;34m(ds_id, ds)\u001b[0m\n\u001b[1;32m    115\u001b[0m \u001b[38;5;28;01mdef\u001b[39;00m \u001b[38;5;21mget_decadal_bnds_list\u001b[39m(ds_id, ds):\n\u001b[0;32m--> 116\u001b[0m     bounds_list \u001b[38;5;241m=\u001b[39m \u001b[43mget_bnd_vars\u001b[49m\u001b[43m(\u001b[49m\u001b[43mds_id\u001b[49m\u001b[43m,\u001b[49m\u001b[43m \u001b[49m\u001b[43mds\u001b[49m\u001b[43m)\u001b[49m\n\u001b[1;32m    117\u001b[0m     \u001b[38;5;66;03m# coordinate attribute is always added to realization variable in decadal datasets\u001b[39;00m\n\u001b[1;32m    118\u001b[0m     bounds_list\u001b[38;5;241m.\u001b[39mappend(\u001b[38;5;124m\"\u001b[39m\u001b[38;5;124mrealization\u001b[39m\u001b[38;5;124m\"\u001b[39m)\n",
      "File \u001b[0;32m/usr/local/Caskroom/mambaforge/base/envs/rook/lib/python3.10/site-packages/daops/fix_utils/decadal_utils.py:111\u001b[0m, in \u001b[0;36mget_bnd_vars\u001b[0;34m(ds_id, ds)\u001b[0m\n\u001b[1;32m    109\u001b[0m \u001b[38;5;28;01mdef\u001b[39;00m \u001b[38;5;21mget_bnd_vars\u001b[39m(ds_id, ds):\n\u001b[1;32m    110\u001b[0m     bnd_vars \u001b[38;5;241m=\u001b[39m [\u001b[38;5;124m\"\u001b[39m\u001b[38;5;124mlatitude\u001b[39m\u001b[38;5;124m\"\u001b[39m, \u001b[38;5;124m\"\u001b[39m\u001b[38;5;124mlongitude\u001b[39m\u001b[38;5;124m\"\u001b[39m, \u001b[38;5;124m\"\u001b[39m\u001b[38;5;124mtime\u001b[39m\u001b[38;5;124m\"\u001b[39m]\n\u001b[0;32m--> 111\u001b[0m     bounds_list \u001b[38;5;241m=\u001b[39m [ds\u001b[38;5;241m.\u001b[39mcf\u001b[38;5;241m.\u001b[39mget_bounds(bv)\u001b[38;5;241m.\u001b[39mname \u001b[38;5;28;01mfor\u001b[39;00m bv \u001b[38;5;129;01min\u001b[39;00m bnd_vars]\n\u001b[1;32m    112\u001b[0m     \u001b[38;5;28;01mreturn\u001b[39;00m bounds_list\n",
      "File \u001b[0;32m/usr/local/Caskroom/mambaforge/base/envs/rook/lib/python3.10/site-packages/daops/fix_utils/decadal_utils.py:111\u001b[0m, in \u001b[0;36m<listcomp>\u001b[0;34m(.0)\u001b[0m\n\u001b[1;32m    109\u001b[0m \u001b[38;5;28;01mdef\u001b[39;00m \u001b[38;5;21mget_bnd_vars\u001b[39m(ds_id, ds):\n\u001b[1;32m    110\u001b[0m     bnd_vars \u001b[38;5;241m=\u001b[39m [\u001b[38;5;124m\"\u001b[39m\u001b[38;5;124mlatitude\u001b[39m\u001b[38;5;124m\"\u001b[39m, \u001b[38;5;124m\"\u001b[39m\u001b[38;5;124mlongitude\u001b[39m\u001b[38;5;124m\"\u001b[39m, \u001b[38;5;124m\"\u001b[39m\u001b[38;5;124mtime\u001b[39m\u001b[38;5;124m\"\u001b[39m]\n\u001b[0;32m--> 111\u001b[0m     bounds_list \u001b[38;5;241m=\u001b[39m [\u001b[43mds\u001b[49m\u001b[38;5;241;43m.\u001b[39;49m\u001b[43mcf\u001b[49m\u001b[38;5;241m.\u001b[39mget_bounds(bv)\u001b[38;5;241m.\u001b[39mname \u001b[38;5;28;01mfor\u001b[39;00m bv \u001b[38;5;129;01min\u001b[39;00m bnd_vars]\n\u001b[1;32m    112\u001b[0m     \u001b[38;5;28;01mreturn\u001b[39;00m bounds_list\n",
      "\u001b[0;31mAttributeError\u001b[0m: 'NoneType' object has no attribute 'cf'"
     ]
    }
   ],
   "source": [
    "# fix 6\n",
    "operands = {'var_ids': 'derive: daops.fix_utils.decadal_utils.get_decadal_bnds_list'}\n",
    "\n",
    "remove_coord_attr(ds_id, ds, **operands)"
   ]
  },
  {
   "cell_type": "code",
   "execution_count": null,
   "id": "f7d614e7-d88e-4654-b799-3b9c15d520d5",
   "metadata": {},
   "outputs": [],
   "source": []
  }
 ],
 "metadata": {
  "kernelspec": {
   "display_name": "Python 3 (ipykernel)",
   "language": "python",
   "name": "python3"
  },
  "language_info": {
   "codemirror_mode": {
    "name": "ipython",
    "version": 3
   },
   "file_extension": ".py",
   "mimetype": "text/x-python",
   "name": "python",
   "nbconvert_exporter": "python",
   "pygments_lexer": "ipython3",
   "version": "3.10.8"
  }
 },
 "nbformat": 4,
 "nbformat_minor": 5
}
