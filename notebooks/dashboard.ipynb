{
 "cells": [
  {
   "cell_type": "code",
   "execution_count": 1,
   "id": "59109053-8451-421a-930c-534bfe75e2f8",
   "metadata": {},
   "outputs": [],
   "source": [
    "from rook.dashboard import Dashboard"
   ]
  },
  {
   "cell_type": "code",
   "execution_count": 2,
   "id": "7384ef24-299e-42c9-8a7a-fc990a02ce14",
   "metadata": {},
   "outputs": [],
   "source": [
    "dash = Dashboard(\"/tmp\")"
   ]
  },
  {
   "cell_type": "code",
   "execution_count": 3,
   "id": "1cd42832-c7fe-405a-b927-663d996fddff",
   "metadata": {},
   "outputs": [],
   "source": [
    "dash.load(\n",
    "        \"http://rook8.cloud.dkrz.de:80/outputs/rook/ba7a8b60-50b6-11ef-a299-fa163e934c9b/wps_requests.csv\",\n",
    "        filter=\"orchestrate\",\n",
    "    )\n",
    "\n",
    "dash.load_downloads(\n",
    "        \"http://rook8.cloud.dkrz.de:80/outputs/rook/ba7a8b60-50b6-11ef-a299-fa163e934c9b/downloads.csv\",\n",
    "    )"
   ]
  },
  {
   "cell_type": "code",
   "execution_count": 4,
   "id": "9fc29c58-067b-409b-b047-1c7ae1e5d3c8",
   "metadata": {},
   "outputs": [
    {
     "name": "stderr",
     "output_type": "stream",
     "text": [
      "/Users/pingu/Documents/GitHub/roocs/rook/rook/dashboard/tables/overview.py:32: FutureWarning: The default value of numeric_only in DataFrameGroupBy.sum is deprecated. In a future version, numeric_only will default to False. Either specify numeric_only or select only columns which should be valid for the function.\n",
      "  tdf = self.df_downloads.groupby(pd.Grouper(key=\"datetime\", freq=\"1D\")).sum()\n"
     ]
    },
    {
     "data": {
      "text/plain": [
       "'/tmp/dashboard.html'"
      ]
     },
     "execution_count": 4,
     "metadata": {},
     "output_type": "execute_result"
    }
   ],
   "source": [
    "dash.write()"
   ]
  }
 ],
 "metadata": {
  "kernelspec": {
   "display_name": "Python 3 (ipykernel)",
   "language": "python",
   "name": "python3"
  },
  "language_info": {
   "codemirror_mode": {
    "name": "ipython",
    "version": 3
   },
   "file_extension": ".py",
   "mimetype": "text/x-python",
   "name": "python",
   "nbconvert_exporter": "python",
   "pygments_lexer": "ipython3",
   "version": "3.11.9"
  }
 },
 "nbformat": 4,
 "nbformat_minor": 5
}
