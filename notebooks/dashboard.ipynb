{
 "cells": [
  {
   "cell_type": "code",
   "execution_count": null,
   "id": "59109053-8451-421a-930c-534bfe75e2f8",
   "metadata": {},
   "outputs": [],
   "source": [
    "from rook.dashboard import Dashboard"
   ]
  },
  {
   "cell_type": "code",
   "execution_count": null,
   "id": "7384ef24-299e-42c9-8a7a-fc990a02ce14",
   "metadata": {},
   "outputs": [],
   "source": [
    "dash = Dashboard(\"/tmp\")"
   ]
  },
  {
   "cell_type": "code",
   "execution_count": null,
   "id": "1cd42832-c7fe-405a-b927-663d996fddff",
   "metadata": {},
   "outputs": [],
   "source": [
    "dash.load(\n",
    "        \"http://rook3.cloud.dkrz.de:80/outputs/rook/9963ecd6-cde8-11eb-bb2b-fa163e466023/wps_requests.csv\",\n",
    "        filter=\"orchestrate\",\n",
    "    )"
   ]
  },
  {
   "cell_type": "code",
   "execution_count": null,
   "id": "9fc29c58-067b-409b-b047-1c7ae1e5d3c8",
   "metadata": {},
   "outputs": [],
   "source": [
    "dash.write()"
   ]
  },
  {
   "cell_type": "code",
   "execution_count": null,
   "id": "3175d999-2052-4741-b19d-3ec371e0713c",
   "metadata": {},
   "outputs": [],
   "source": [
    "import IPython\n",
    "IPython.display.HTML(\"/tmp/dashboard.html\")"
   ]
  }
 ],
 "metadata": {
  "kernelspec": {
   "display_name": "Python 3",
   "language": "python",
   "name": "python3"
  },
  "language_info": {
   "codemirror_mode": {
    "name": "ipython",
    "version": 3
   },
   "file_extension": ".py",
   "mimetype": "text/x-python",
   "name": "python",
   "nbconvert_exporter": "python",
   "pygments_lexer": "ipython3",
   "version": "3.7.10"
  }
 },
 "nbformat": 4,
 "nbformat_minor": 5
}
