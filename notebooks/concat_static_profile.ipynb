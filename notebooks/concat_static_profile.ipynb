{
 "cells": [
  {
   "cell_type": "markdown",
   "id": "9d6fb170-ca3c-4ed0-80be-a2f8bdbcac33",
   "metadata": {},
   "source": [
    "# Memory profile of decadal static\n",
    "https://coderzcolumn.com/tutorials/python/how-to-profile-memory-usage-in-python-using-memory-profiler"
   ]
  },
  {
   "cell_type": "code",
   "execution_count": 1,
   "id": "05e636ca-6b81-496a-b8af-1cc12c7cd10d",
   "metadata": {},
   "outputs": [],
   "source": [
    "%load_ext memory_profiler"
   ]
  },
  {
   "cell_type": "code",
   "execution_count": 2,
   "id": "b6bd9c6d-e6df-4d39-83ac-2769f6d92c1f",
   "metadata": {},
   "outputs": [],
   "source": [
    "import time"
   ]
  },
  {
   "cell_type": "code",
   "execution_count": 3,
   "id": "17f32e28-b738-4f0f-b5ce-a460bb36ea4b",
   "metadata": {},
   "outputs": [],
   "source": [
    "from decadal_static import get_decdal_static"
   ]
  },
  {
   "cell_type": "code",
   "execution_count": 4,
   "id": "f414e2a6-3b76-4c29-87ec-f15eddd90d09",
   "metadata": {},
   "outputs": [],
   "source": [
    "base_dir = \"/Users/pingu/data/cmip6-decadal/avg/day\""
   ]
  },
  {
   "cell_type": "markdown",
   "id": "2157de60-3446-40d1-8ea1-4f7c5e5000ad",
   "metadata": {},
   "source": [
    "## subset one year"
   ]
  },
  {
   "cell_type": "code",
   "execution_count": 5,
   "id": "c9541c83-5207-4229-ab98-5a0f9ba675a9",
   "metadata": {},
   "outputs": [],
   "source": [
    "start = time.time()"
   ]
  },
  {
   "cell_type": "code",
   "execution_count": 6,
   "id": "10ed4008-835a-4034-82ec-de03124d8c5b",
   "metadata": {},
   "outputs": [
    {
     "name": "stdout",
     "output_type": "stream",
     "text": [
      "Filename: /Users/pingu/Documents/GitHub/roocs/rook/notebooks/decadal_static.py\n",
      "\n",
      "Line #    Mem usage    Increment  Occurrences   Line Contents\n",
      "=============================================================\n",
      "     7    183.6 MiB    183.6 MiB           1   @profile\n",
      "     8                                         def get_decdal_static(basedir, time=None):\n",
      "     9    183.6 MiB      0.0 MiB           1       data_dir = Path(basedir)\n",
      "    10    183.6 MiB      0.0 MiB           1       paths = list(data_dir.glob(\"**/*.nc\"))\n",
      "    11                                             # use a context manager, to ensure the file gets closed after use\n",
      "    12    216.2 MiB     32.6 MiB           1       with xr.open_dataset(paths[0]) as ds:\n",
      "    13                                                 # select time\n",
      "    14    216.2 MiB      0.0 MiB           1           if time is not None:\n",
      "    15    216.2 MiB      0.0 MiB           1               ds = ds.isel(time=time)\n",
      "    16                                                 # write output\n",
      "    17    218.8 MiB      2.6 MiB           1           ds.to_netcdf(\"out/static.nc\")\n",
      "\n",
      "\n",
      "\n"
     ]
    },
    {
     "data": {
      "text/plain": [
       "Filename: /usr/local/Caskroom/mambaforge/base/envs/rook/lib/python3.7/site-packages/memory_profiler.py\n",
       "\n",
       "Line #    Mem usage    Increment  Occurrences   Line Contents\n",
       "=============================================================\n",
       "  1183    183.6 MiB    183.6 MiB           1               @wraps(wrapped=func)\n",
       "  1184                                                     def wrapper(*args, **kwargs):\n",
       "  1185    183.6 MiB      0.0 MiB           1                   prof = get_prof()\n",
       "  1186    218.8 MiB     35.1 MiB           1                   val = prof(func)(*args, **kwargs)\n",
       "  1187    218.8 MiB      0.0 MiB           1                   show_results_bound(prof)\n",
       "  1188    218.8 MiB      0.0 MiB           1                   return val"
      ]
     },
     "metadata": {},
     "output_type": "display_data"
    }
   ],
   "source": [
    "%mprun -f get_decdal_static get_decdal_static(base_dir, time=slice(0, 12))"
   ]
  },
  {
   "cell_type": "code",
   "execution_count": 7,
   "id": "117290e1-0371-492d-8299-110c5355035e",
   "metadata": {},
   "outputs": [
    {
     "name": "stdout",
     "output_type": "stream",
     "text": [
      "2.24031400680542 secs\n"
     ]
    }
   ],
   "source": [
    "print(f\"{time.time() - start} secs\")"
   ]
  },
  {
   "cell_type": "markdown",
   "id": "83c941ee-ef79-46ea-bcb4-97dfcafdbaae",
   "metadata": {},
   "source": [
    "## complete time range"
   ]
  },
  {
   "cell_type": "code",
   "execution_count": 8,
   "id": "d6e67c37-44ee-4449-8ee4-e3f07f461b21",
   "metadata": {},
   "outputs": [],
   "source": [
    "start = time.time()"
   ]
  },
  {
   "cell_type": "code",
   "execution_count": 9,
   "id": "18f7e803-ffc6-4213-b919-81761f43ada3",
   "metadata": {},
   "outputs": [
    {
     "name": "stdout",
     "output_type": "stream",
     "text": [
      "Filename: /Users/pingu/Documents/GitHub/roocs/rook/notebooks/decadal_static.py\n",
      "\n",
      "Line #    Mem usage    Increment  Occurrences   Line Contents\n",
      "=============================================================\n",
      "     7    218.8 MiB    218.8 MiB           1   @profile\n",
      "     8                                         def get_decdal_static(basedir, time=None):\n",
      "     9    218.8 MiB      0.0 MiB           1       data_dir = Path(basedir)\n",
      "    10    218.8 MiB      0.0 MiB           1       paths = list(data_dir.glob(\"**/*.nc\"))\n",
      "    11                                             # use a context manager, to ensure the file gets closed after use\n",
      "    12    231.3 MiB     12.5 MiB           1       with xr.open_dataset(paths[0]) as ds:\n",
      "    13                                                 # select time\n",
      "    14    231.3 MiB      0.0 MiB           1           if time is not None:\n",
      "    15                                                     ds = ds.isel(time=time)\n",
      "    16                                                 # write output\n",
      "    17    239.6 MiB      8.3 MiB           1           ds.to_netcdf(\"out/static.nc\")\n",
      "\n",
      "\n",
      "\n"
     ]
    },
    {
     "data": {
      "text/plain": [
       "Filename: /usr/local/Caskroom/mambaforge/base/envs/rook/lib/python3.7/site-packages/memory_profiler.py\n",
       "\n",
       "Line #    Mem usage    Increment  Occurrences   Line Contents\n",
       "=============================================================\n",
       "  1183    218.8 MiB    218.8 MiB           1               @wraps(wrapped=func)\n",
       "  1184                                                     def wrapper(*args, **kwargs):\n",
       "  1185    218.8 MiB      0.0 MiB           1                   prof = get_prof()\n",
       "  1186    239.6 MiB     20.8 MiB           1                   val = prof(func)(*args, **kwargs)\n",
       "  1187    239.6 MiB      0.0 MiB           1                   show_results_bound(prof)\n",
       "  1188    239.6 MiB      0.0 MiB           1                   return val"
      ]
     },
     "metadata": {},
     "output_type": "display_data"
    }
   ],
   "source": [
    "%mprun -f get_decdal_static get_decdal_static(base_dir, time=None)"
   ]
  },
  {
   "cell_type": "code",
   "execution_count": 10,
   "id": "8af5e146-d0b4-4edf-8e6f-3c1b42350c0c",
   "metadata": {},
   "outputs": [
    {
     "name": "stdout",
     "output_type": "stream",
     "text": [
      "1.6808078289031982 secs\n"
     ]
    }
   ],
   "source": [
    "print(f\"{time.time() - start} secs\")"
   ]
  }
 ],
 "metadata": {
  "kernelspec": {
   "display_name": "Python 3 (ipykernel)",
   "language": "python",
   "name": "python3"
  },
  "language_info": {
   "codemirror_mode": {
    "name": "ipython",
    "version": 3
   },
   "file_extension": ".py",
   "mimetype": "text/x-python",
   "name": "python",
   "nbconvert_exporter": "python",
   "pygments_lexer": "ipython3",
   "version": "3.7.12"
  },
  "nbTranslate": {
   "displayLangs": [
    "*"
   ],
   "hotkey": "alt-t",
   "langInMainMenu": true,
   "sourceLang": "en",
   "targetLang": "fr",
   "useGoogleTranslate": true
  }
 },
 "nbformat": 4,
 "nbformat_minor": 5
}
