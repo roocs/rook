{
 "cells": [
  {
   "cell_type": "code",
   "execution_count": 1,
   "id": "1d849e12-870b-47bb-b71a-e4fc46fcd06f",
   "metadata": {},
   "outputs": [],
   "source": [
    "%load_ext memory_profiler"
   ]
  },
  {
   "cell_type": "code",
   "execution_count": 2,
   "id": "17f32e28-b738-4f0f-b5ce-a460bb36ea4b",
   "metadata": {},
   "outputs": [],
   "source": [
    "from decadal_static import get_decdal_static"
   ]
  },
  {
   "cell_type": "markdown",
   "id": "2157de60-3446-40d1-8ea1-4f7c5e5000ad",
   "metadata": {},
   "source": [
    "## subset one year"
   ]
  },
  {
   "cell_type": "code",
   "execution_count": 3,
   "id": "10ed4008-835a-4034-82ec-de03124d8c5b",
   "metadata": {},
   "outputs": [
    {
     "name": "stdout",
     "output_type": "stream",
     "text": [
      "Filename: /Users/pingu/Documents/GitHub/roocs/rook/notebooks/decadal_static.py\n",
      "\n",
      "Line #    Mem usage    Increment  Occurrences   Line Contents\n",
      "=============================================================\n",
      "     6    183.6 MiB    183.6 MiB           1   @profile\n",
      "     7                                         def get_decdal_static(basedir, time=None):\n",
      "     8    183.6 MiB      0.0 MiB           2       def process_one_path(path):\n",
      "     9                                                 # use a context manager, to ensure the file gets closed after use\n",
      "    10    189.9 MiB      6.3 MiB           1           with xr.open_dataset(path) as ds:\n",
      "    11                                                     # select time\n",
      "    12    189.9 MiB      0.0 MiB           1               if time is not None:\n",
      "    13    189.9 MiB      0.0 MiB           1                   ds = ds.isel(time=time)\n",
      "    14                                                     # load all data from the transformed dataset, to ensure we can\n",
      "    15                                                     # use it after closing each original file\n",
      "    16    196.8 MiB      6.9 MiB           1               ds.load()\n",
      "    17    195.3 MiB     -1.4 MiB           1               return ds\n",
      "    18    183.6 MiB      0.0 MiB           1       data_dir = Path(basedir)\n",
      "    19    183.6 MiB      0.0 MiB           1       paths = list(data_dir.glob('**/*.nc'))\n",
      "    20    195.3 MiB      0.0 MiB           1       ds = process_one_path(paths[0])\n",
      "    21                                             # write output\n",
      "    22    196.5 MiB      1.1 MiB           1       ds.to_netcdf(\"out/static.nc\")\n",
      "    23    196.5 MiB      0.0 MiB           1       return ds\n",
      "\n",
      "\n",
      "\n"
     ]
    },
    {
     "data": {
      "text/plain": [
       "Filename: /usr/local/Caskroom/mambaforge/base/envs/rook/lib/python3.7/site-packages/memory_profiler.py\n",
       "\n",
       "Line #    Mem usage    Increment  Occurrences   Line Contents\n",
       "=============================================================\n",
       "  1183    183.6 MiB    183.6 MiB           1               @wraps(wrapped=func)\n",
       "  1184                                                     def wrapper(*args, **kwargs):\n",
       "  1185    183.6 MiB      0.0 MiB           1                   prof = get_prof()\n",
       "  1186    196.5 MiB     12.9 MiB           1                   val = prof(func)(*args, **kwargs)\n",
       "  1187    196.5 MiB      0.0 MiB           1                   show_results_bound(prof)\n",
       "  1188    196.5 MiB      0.0 MiB           1                   return val"
      ]
     },
     "metadata": {},
     "output_type": "display_data"
    }
   ],
   "source": [
    "%mprun -f get_decdal_static get_decdal_static(\"/Users/pingu/data/cmip6-decadal/avg\", time=slice(0, 12))"
   ]
  },
  {
   "cell_type": "markdown",
   "id": "83c941ee-ef79-46ea-bcb4-97dfcafdbaae",
   "metadata": {},
   "source": [
    "## complete time range"
   ]
  },
  {
   "cell_type": "code",
   "execution_count": 4,
   "id": "18f7e803-ffc6-4213-b919-81761f43ada3",
   "metadata": {},
   "outputs": [
    {
     "name": "stdout",
     "output_type": "stream",
     "text": [
      "Filename: /Users/pingu/Documents/GitHub/roocs/rook/notebooks/decadal_static.py\n",
      "\n",
      "Line #    Mem usage    Increment  Occurrences   Line Contents\n",
      "=============================================================\n",
      "     6    196.4 MiB    196.4 MiB           1   @profile\n",
      "     7                                         def get_decdal_static(basedir, time=None):\n",
      "     8    196.4 MiB      0.0 MiB           2       def process_one_path(path):\n",
      "     9                                                 # use a context manager, to ensure the file gets closed after use\n",
      "    10    197.5 MiB      1.0 MiB           1           with xr.open_dataset(path) as ds:\n",
      "    11                                                     # select time\n",
      "    12    197.5 MiB      0.0 MiB           1               if time is not None:\n",
      "    13                                                         ds = ds.isel(time=time)\n",
      "    14                                                     # load all data from the transformed dataset, to ensure we can\n",
      "    15                                                     # use it after closing each original file\n",
      "    16    244.4 MiB     47.0 MiB           1               ds.load()\n",
      "    17    228.7 MiB    -15.8 MiB           1               return ds\n",
      "    18    196.4 MiB      0.0 MiB           1       data_dir = Path(basedir)\n",
      "    19    196.4 MiB      0.0 MiB           1       paths = list(data_dir.glob('**/*.nc'))\n",
      "    20    228.7 MiB      0.0 MiB           1       ds = process_one_path(paths[0])\n",
      "    21                                             # write output\n",
      "    22    229.7 MiB      1.1 MiB           1       ds.to_netcdf(\"out/static.nc\")\n",
      "    23    229.7 MiB      0.0 MiB           1       return ds\n",
      "\n",
      "\n",
      "\n"
     ]
    },
    {
     "data": {
      "text/plain": [
       "Filename: /usr/local/Caskroom/mambaforge/base/envs/rook/lib/python3.7/site-packages/memory_profiler.py\n",
       "\n",
       "Line #    Mem usage    Increment  Occurrences   Line Contents\n",
       "=============================================================\n",
       "  1183    196.4 MiB    196.4 MiB           1               @wraps(wrapped=func)\n",
       "  1184                                                     def wrapper(*args, **kwargs):\n",
       "  1185    196.4 MiB      0.0 MiB           1                   prof = get_prof()\n",
       "  1186    229.7 MiB     33.3 MiB           1                   val = prof(func)(*args, **kwargs)\n",
       "  1187    229.7 MiB      0.0 MiB           1                   show_results_bound(prof)\n",
       "  1188    229.7 MiB      0.0 MiB           1                   return val"
      ]
     },
     "metadata": {},
     "output_type": "display_data"
    }
   ],
   "source": [
    "%mprun -f get_decdal_static get_decdal_static(\"/Users/pingu/data/cmip6-decadal/avg\", time=None)"
   ]
  }
 ],
 "metadata": {
  "kernelspec": {
   "display_name": "Python 3 (ipykernel)",
   "language": "python",
   "name": "python3"
  },
  "language_info": {
   "codemirror_mode": {
    "name": "ipython",
    "version": 3
   },
   "file_extension": ".py",
   "mimetype": "text/x-python",
   "name": "python",
   "nbconvert_exporter": "python",
   "pygments_lexer": "ipython3",
   "version": "3.7.12"
  },
  "nbTranslate": {
   "displayLangs": [
    "*"
   ],
   "hotkey": "alt-t",
   "langInMainMenu": true,
   "sourceLang": "en",
   "targetLang": "fr",
   "useGoogleTranslate": true
  }
 },
 "nbformat": 4,
 "nbformat_minor": 5
}
