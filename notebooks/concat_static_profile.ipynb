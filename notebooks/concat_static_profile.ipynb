{
 "cells": [
  {
   "cell_type": "markdown",
   "id": "9d6fb170-ca3c-4ed0-80be-a2f8bdbcac33",
   "metadata": {},
   "source": [
    "# Memory profile of decadal static\n",
    "https://coderzcolumn.com/tutorials/python/how-to-profile-memory-usage-in-python-using-memory-profiler"
   ]
  },
  {
   "cell_type": "code",
   "execution_count": 1,
   "id": "05e636ca-6b81-496a-b8af-1cc12c7cd10d",
   "metadata": {},
   "outputs": [],
   "source": [
    "%load_ext memory_profiler"
   ]
  },
  {
   "cell_type": "code",
   "execution_count": 2,
   "id": "17f32e28-b738-4f0f-b5ce-a460bb36ea4b",
   "metadata": {},
   "outputs": [],
   "source": [
    "from decadal_static import get_decdal_static"
   ]
  },
  {
   "cell_type": "markdown",
   "id": "2157de60-3446-40d1-8ea1-4f7c5e5000ad",
   "metadata": {},
   "source": [
    "## subset one year"
   ]
  },
  {
   "cell_type": "code",
   "execution_count": 3,
   "id": "10ed4008-835a-4034-82ec-de03124d8c5b",
   "metadata": {},
   "outputs": [
    {
     "name": "stdout",
     "output_type": "stream",
     "text": [
      "Filename: /Users/pingu/Documents/GitHub/roocs/rook/notebooks/decadal_static.py\n",
      "\n",
      "Line #    Mem usage    Increment  Occurrences   Line Contents\n",
      "=============================================================\n",
      "     7    184.1 MiB    184.1 MiB           1   @profile\n",
      "     8                                         def get_decdal_static(basedir, time=None):\n",
      "     9    184.1 MiB      0.0 MiB           2       def process_one_path(path):\n",
      "    10                                                 # use a context manager, to ensure the file gets closed after use\n",
      "    11    190.1 MiB      6.1 MiB           1           with xr.open_dataset(path) as ds:\n",
      "    12                                                     # select time\n",
      "    13    190.1 MiB      0.0 MiB           1               if time is not None:\n",
      "    14    190.1 MiB      0.0 MiB           1                   ds = ds.isel(time=time)\n",
      "    15                                                     # load all data from the transformed dataset, to ensure we can\n",
      "    16                                                     # use it after closing each original file\n",
      "    17    197.0 MiB      6.9 MiB           1               ds.load()\n",
      "    18    195.6 MiB     -1.4 MiB           1               return ds\n",
      "    19                                         \n",
      "    20    184.1 MiB      0.0 MiB           1       data_dir = Path(basedir)\n",
      "    21    184.1 MiB      0.0 MiB           1       paths = list(data_dir.glob(\"**/*.nc\"))\n",
      "    22    195.6 MiB      0.0 MiB           1       ds = process_one_path(paths[0])\n",
      "    23                                             # write output\n",
      "    24    196.9 MiB      1.3 MiB           1       ds.to_netcdf(\"out/static.nc\")\n",
      "    25    196.9 MiB      0.0 MiB           1       return ds\n",
      "\n",
      "\n",
      "\n"
     ]
    },
    {
     "data": {
      "text/plain": [
       "Filename: /usr/local/Caskroom/mambaforge/base/envs/rook/lib/python3.7/site-packages/memory_profiler.py\n",
       "\n",
       "Line #    Mem usage    Increment  Occurrences   Line Contents\n",
       "=============================================================\n",
       "  1183    184.0 MiB    184.0 MiB           1               @wraps(wrapped=func)\n",
       "  1184                                                     def wrapper(*args, **kwargs):\n",
       "  1185    184.0 MiB      0.0 MiB           1                   prof = get_prof()\n",
       "  1186    196.9 MiB     12.8 MiB           1                   val = prof(func)(*args, **kwargs)\n",
       "  1187    196.9 MiB      0.0 MiB           1                   show_results_bound(prof)\n",
       "  1188    196.9 MiB      0.0 MiB           1                   return val"
      ]
     },
     "metadata": {},
     "output_type": "display_data"
    }
   ],
   "source": [
    "%mprun -f get_decdal_static get_decdal_static(\"/Users/pingu/data/cmip6-decadal/avg\", time=slice(0, 12))"
   ]
  },
  {
   "cell_type": "markdown",
   "id": "83c941ee-ef79-46ea-bcb4-97dfcafdbaae",
   "metadata": {},
   "source": [
    "## complete time range"
   ]
  },
  {
   "cell_type": "code",
   "execution_count": 4,
   "id": "18f7e803-ffc6-4213-b919-81761f43ada3",
   "metadata": {},
   "outputs": [
    {
     "name": "stdout",
     "output_type": "stream",
     "text": [
      "Filename: /Users/pingu/Documents/GitHub/roocs/rook/notebooks/decadal_static.py\n",
      "\n",
      "Line #    Mem usage    Increment  Occurrences   Line Contents\n",
      "=============================================================\n",
      "     7    196.8 MiB    196.8 MiB           1   @profile\n",
      "     8                                         def get_decdal_static(basedir, time=None):\n",
      "     9    196.8 MiB      0.0 MiB           2       def process_one_path(path):\n",
      "    10                                                 # use a context manager, to ensure the file gets closed after use\n",
      "    11    197.7 MiB      0.9 MiB           1           with xr.open_dataset(path) as ds:\n",
      "    12                                                     # select time\n",
      "    13    197.7 MiB      0.0 MiB           1               if time is not None:\n",
      "    14                                                         ds = ds.isel(time=time)\n",
      "    15                                                     # load all data from the transformed dataset, to ensure we can\n",
      "    16                                                     # use it after closing each original file\n",
      "    17    245.1 MiB     47.3 MiB           1               ds.load()\n",
      "    18    229.3 MiB    -15.8 MiB           1               return ds\n",
      "    19                                         \n",
      "    20    196.8 MiB      0.0 MiB           1       data_dir = Path(basedir)\n",
      "    21    196.8 MiB      0.0 MiB           1       paths = list(data_dir.glob(\"**/*.nc\"))\n",
      "    22    229.3 MiB      0.0 MiB           1       ds = process_one_path(paths[0])\n",
      "    23                                             # write output\n",
      "    24    229.8 MiB      0.6 MiB           1       ds.to_netcdf(\"out/static.nc\")\n",
      "    25    229.8 MiB      0.0 MiB           1       return ds\n",
      "\n",
      "\n",
      "\n"
     ]
    },
    {
     "data": {
      "text/plain": [
       "Filename: /usr/local/Caskroom/mambaforge/base/envs/rook/lib/python3.7/site-packages/memory_profiler.py\n",
       "\n",
       "Line #    Mem usage    Increment  Occurrences   Line Contents\n",
       "=============================================================\n",
       "  1183    196.8 MiB    196.8 MiB           1               @wraps(wrapped=func)\n",
       "  1184                                                     def wrapper(*args, **kwargs):\n",
       "  1185    196.8 MiB      0.0 MiB           1                   prof = get_prof()\n",
       "  1186    229.8 MiB     33.0 MiB           1                   val = prof(func)(*args, **kwargs)\n",
       "  1187    229.8 MiB      0.0 MiB           1                   show_results_bound(prof)\n",
       "  1188    229.8 MiB      0.0 MiB           1                   return val"
      ]
     },
     "metadata": {},
     "output_type": "display_data"
    }
   ],
   "source": [
    "%mprun -f get_decdal_static get_decdal_static(\"/Users/pingu/data/cmip6-decadal/avg\", time=None)"
   ]
  }
 ],
 "metadata": {
  "kernelspec": {
   "display_name": "Python 3 (ipykernel)",
   "language": "python",
   "name": "python3"
  },
  "language_info": {
   "codemirror_mode": {
    "name": "ipython",
    "version": 3
   },
   "file_extension": ".py",
   "mimetype": "text/x-python",
   "name": "python",
   "nbconvert_exporter": "python",
   "pygments_lexer": "ipython3",
   "version": "3.7.12"
  },
  "nbTranslate": {
   "displayLangs": [
    "*"
   ],
   "hotkey": "alt-t",
   "langInMainMenu": true,
   "sourceLang": "en",
   "targetLang": "fr",
   "useGoogleTranslate": true
  }
 },
 "nbformat": 4,
 "nbformat_minor": 5
}
