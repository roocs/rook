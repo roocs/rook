{
 "cells": [
  {
   "cell_type": "code",
   "execution_count": null,
   "id": "056b5ab6-b620-440e-84cd-23ad777df459",
   "metadata": {},
   "outputs": [],
   "source": [
    "import xarray as xr\n",
    "import pandas as pd\n",
    "from pathlib import Path\n",
    "from memory_profiler import profile"
   ]
  },
  {
   "cell_type": "code",
   "execution_count": null,
   "id": "1d849e12-870b-47bb-b71a-e4fc46fcd06f",
   "metadata": {},
   "outputs": [],
   "source": [
    "%load_ext memory_profiler"
   ]
  },
  {
   "cell_type": "code",
   "execution_count": null,
   "id": "e7a0ebe3-0f1f-457b-ad7a-63cb668f8ff9",
   "metadata": {},
   "outputs": [],
   "source": [
    "@profile\n",
    "def get_decdal_static(basedir, time=None):\n",
    "    def process_one_path(path):\n",
    "        # use a context manager, to ensure the file gets closed after use\n",
    "        with xr.open_dataset(path) as ds:\n",
    "            # select time\n",
    "            if time is not None:\n",
    "                ds = ds.isel(time=time)\n",
    "            # load all data from the transformed dataset, to ensure we can\n",
    "            # use it after closing each original file\n",
    "            ds.load()\n",
    "            return ds\n",
    "    data_dir = Path(basedir)\n",
    "    paths = list(data_dir.glob('**/*.nc'))\n",
    "    ds = process_one_path(paths[0])\n",
    "    # write output\n",
    "    ds.to_netcdf(\"out/static.nc\")\n",
    "    return ds"
   ]
  },
  {
   "cell_type": "code",
   "execution_count": null,
   "id": "7a7f0bec-4d7b-4294-bb73-41dfd69e4afc",
   "metadata": {},
   "outputs": [],
   "source": [
    "%memit get_decdal_static(\"/Users/pingu/data/cmip6-decadal/avg\", time=slice(0, -1))"
   ]
  }
 ],
 "metadata": {
  "kernelspec": {
   "display_name": "Python 3 (ipykernel)",
   "language": "python",
   "name": "python3"
  },
  "language_info": {
   "codemirror_mode": {
    "name": "ipython",
    "version": 3
   },
   "file_extension": ".py",
   "mimetype": "text/x-python",
   "name": "python",
   "nbconvert_exporter": "python",
   "pygments_lexer": "ipython3",
   "version": "3.7.12"
  },
  "nbTranslate": {
   "displayLangs": [
    "*"
   ],
   "hotkey": "alt-t",
   "langInMainMenu": true,
   "sourceLang": "en",
   "targetLang": "fr",
   "useGoogleTranslate": true
  }
 },
 "nbformat": 4,
 "nbformat_minor": 5
}
