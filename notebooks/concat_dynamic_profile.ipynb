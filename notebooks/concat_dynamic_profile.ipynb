{
 "cells": [
  {
   "cell_type": "markdown",
   "id": "8bf0b5de-3fa9-4a9f-83e8-4a7e798ce727",
   "metadata": {},
   "source": [
    "# Memory profile of decadal dynamic\n",
    "https://coderzcolumn.com/tutorials/python/how-to-profile-memory-usage-in-python-using-memory-profiler"
   ]
  },
  {
   "cell_type": "code",
   "execution_count": 1,
   "id": "e9ec0192-b2dd-4048-9d89-bb2dfab37890",
   "metadata": {},
   "outputs": [],
   "source": [
    "%load_ext memory_profiler"
   ]
  },
  {
   "cell_type": "code",
   "execution_count": 2,
   "id": "6d82872b-34b6-4283-b926-d357bd8914dc",
   "metadata": {},
   "outputs": [],
   "source": [
    "from decadal_dynamic import get_decdal_dynamic"
   ]
  },
  {
   "cell_type": "markdown",
   "id": "32f3f10f-ff0b-4a13-accd-0efeb2adbd9c",
   "metadata": {},
   "source": [
    "## subset one year"
   ]
  },
  {
   "cell_type": "code",
   "execution_count": 3,
   "id": "159a3469-9c8b-4458-8f62-b25ec72c5e08",
   "metadata": {},
   "outputs": [
    {
     "name": "stdout",
     "output_type": "stream",
     "text": [
      "Filename: /Users/pingu/Documents/GitHub/roocs/rook/notebooks/decadal_dynamic.py\n",
      "\n",
      "Line #    Mem usage    Increment  Occurrences   Line Contents\n",
      "=============================================================\n",
      "     7    184.0 MiB    184.0 MiB           1   @profile\n",
      "     8                                         def get_decdal_dynamic(basedir, time=None):\n",
      "     9    228.6 MiB      0.0 MiB          11       def process_one_path(path):\n",
      "    10                                                 # use a context manager, to ensure the file gets closed after use\n",
      "    11    228.7 MiB     10.8 MiB          10           with xr.open_dataset(path) as ds:\n",
      "    12                                                     # select time\n",
      "    13    228.7 MiB      0.0 MiB          10               if time is not None:\n",
      "    14    228.7 MiB      0.0 MiB          10                   ds = ds.isel(time=time)\n",
      "    15                                                     # load all data from the transformed dataset, to ensure we can\n",
      "    16                                                     # use it after closing each original file\n",
      "    17    237.2 MiB     89.6 MiB          10               ds.load()\n",
      "    18    232.0 MiB    -52.5 MiB          10               return ds\n",
      "    19                                         \n",
      "    20    184.0 MiB      0.0 MiB           1       data_dir = Path(basedir)\n",
      "    21    184.1 MiB      0.0 MiB           1       paths = sorted(data_dir.glob(\"**/*.nc\"))\n",
      "    22    232.0 MiB      0.0 MiB          13       datasets = [process_one_path(p) for p in paths]\n",
      "    23                                             # dim\n",
      "    24    232.0 MiB      0.0 MiB          13       dim_values = [ds.realization_index for ds in datasets]\n",
      "    25    232.1 MiB      0.1 MiB           1       dim = pd.Index(dim_values, name=\"realization\")\n",
      "    26                                             # concat\n",
      "    27    266.1 MiB     34.0 MiB           1       ds_concat = xr.concat(datasets, dim=dim)\n",
      "    28                                             # average\n",
      "    29    324.6 MiB     58.6 MiB           1       ds_avg = ds_concat.mean(dim=dim.name, skipna=True, keep_attrs=True)\n",
      "    30                                             # write output\n",
      "    31    269.5 MiB    -55.1 MiB           1       ds_avg.to_netcdf(\"out/dynamic.nc\")\n",
      "    32    269.5 MiB      0.0 MiB           1       return ds_avg\n",
      "\n",
      "\n",
      "\n"
     ]
    },
    {
     "data": {
      "text/plain": [
       "Filename: /usr/local/Caskroom/mambaforge/base/envs/rook/lib/python3.7/site-packages/memory_profiler.py\n",
       "\n",
       "Line #    Mem usage    Increment  Occurrences   Line Contents\n",
       "=============================================================\n",
       "  1183    184.0 MiB    184.0 MiB           1               @wraps(wrapped=func)\n",
       "  1184                                                     def wrapper(*args, **kwargs):\n",
       "  1185    184.0 MiB      0.0 MiB           1                   prof = get_prof()\n",
       "  1186    266.0 MiB     82.0 MiB           1                   val = prof(func)(*args, **kwargs)\n",
       "  1187    266.0 MiB      0.0 MiB           1                   show_results_bound(prof)\n",
       "  1188    266.0 MiB      0.0 MiB           1                   return val"
      ]
     },
     "metadata": {},
     "output_type": "display_data"
    }
   ],
   "source": [
    "%mprun -f get_decdal_dynamic get_decdal_dynamic(\"/Users/pingu/data/cmip6-decadal/orig\", time=slice(0, 12))"
   ]
  },
  {
   "cell_type": "markdown",
   "id": "70ff978e-a56d-465f-9ea2-fb4823aa73f1",
   "metadata": {},
   "source": [
    "## complete time range"
   ]
  },
  {
   "cell_type": "code",
   "execution_count": 4,
   "id": "ebb04a06-f757-4e3a-833c-a687d36da2a2",
   "metadata": {},
   "outputs": [
    {
     "name": "stdout",
     "output_type": "stream",
     "text": [
      "Filename: /Users/pingu/Documents/GitHub/roocs/rook/notebooks/decadal_dynamic.py\n",
      "\n",
      "Line #    Mem usage    Increment  Occurrences   Line Contents\n",
      "=============================================================\n",
      "     7    265.8 MiB    265.8 MiB           1   @profile\n",
      "     8                                         def get_decdal_dynamic(basedir, time=None):\n",
      "     9    509.3 MiB    -32.7 MiB          11       def process_one_path(path):\n",
      "    10                                                 # use a context manager, to ensure the file gets closed after use\n",
      "    11    509.5 MiB    -31.8 MiB          10           with xr.open_dataset(path) as ds:\n",
      "    12                                                     # select time\n",
      "    13    509.5 MiB    -32.9 MiB          10               if time is not None:\n",
      "    14                                                         ds = ds.isel(time=time)\n",
      "    15                                                     # load all data from the transformed dataset, to ensure we can\n",
      "    16                                                     # use it after closing each original file\n",
      "    17    600.4 MiB    827.8 MiB          10               ds.load()\n",
      "    18    543.7 MiB   -583.5 MiB          10               return ds\n",
      "    19                                         \n",
      "    20    265.8 MiB      0.0 MiB           1       data_dir = Path(basedir)\n",
      "    21    265.8 MiB      0.0 MiB           1       paths = sorted(data_dir.glob(\"**/*.nc\"))\n",
      "    22    543.7 MiB      0.0 MiB          13       datasets = [process_one_path(p) for p in paths]\n",
      "    23                                             # dim\n",
      "    24    543.7 MiB      0.0 MiB          13       dim_values = [ds.realization_index for ds in datasets]\n",
      "    25    543.7 MiB      0.0 MiB           1       dim = pd.Index(dim_values, name=\"realization\")\n",
      "    26                                             # concat\n",
      "    27    886.9 MiB    343.2 MiB           1       ds_concat = xr.concat(datasets, dim=dim)\n",
      "    28                                             # average\n",
      "    29   1167.5 MiB    280.6 MiB           1       ds_avg = ds_concat.mean(dim=dim.name, skipna=True, keep_attrs=True)\n",
      "    30                                             # write output\n",
      "    31    921.3 MiB   -246.2 MiB           1       ds_avg.to_netcdf(\"out/dynamic.nc\")\n",
      "    32    921.3 MiB      0.0 MiB           1       return ds_avg\n",
      "\n",
      "\n",
      "\n"
     ]
    },
    {
     "data": {
      "text/plain": [
       "Filename: /usr/local/Caskroom/mambaforge/base/envs/rook/lib/python3.7/site-packages/memory_profiler.py\n",
       "\n",
       "Line #    Mem usage    Increment  Occurrences   Line Contents\n",
       "=============================================================\n",
       "  1183    265.8 MiB    265.8 MiB           1               @wraps(wrapped=func)\n",
       "  1184                                                     def wrapper(*args, **kwargs):\n",
       "  1185    265.8 MiB      0.0 MiB           1                   prof = get_prof()\n",
       "  1186    575.1 MiB    309.3 MiB           1                   val = prof(func)(*args, **kwargs)\n",
       "  1187    575.1 MiB      0.0 MiB           1                   show_results_bound(prof)\n",
       "  1188    575.1 MiB      0.0 MiB           1                   return val"
      ]
     },
     "metadata": {},
     "output_type": "display_data"
    }
   ],
   "source": [
    "%mprun -f get_decdal_dynamic get_decdal_dynamic(\"/Users/pingu/data/cmip6-decadal/orig\", time=None)"
   ]
  }
 ],
 "metadata": {
  "kernelspec": {
   "display_name": "Python 3 (ipykernel)",
   "language": "python",
   "name": "python3"
  },
  "language_info": {
   "codemirror_mode": {
    "name": "ipython",
    "version": 3
   },
   "file_extension": ".py",
   "mimetype": "text/x-python",
   "name": "python",
   "nbconvert_exporter": "python",
   "pygments_lexer": "ipython3",
   "version": "3.7.12"
  },
  "nbTranslate": {
   "displayLangs": [
    "*"
   ],
   "hotkey": "alt-t",
   "langInMainMenu": true,
   "sourceLang": "en",
   "targetLang": "fr",
   "useGoogleTranslate": true
  }
 },
 "nbformat": 4,
 "nbformat_minor": 5
}
