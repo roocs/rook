{
 "cells": [
  {
   "cell_type": "markdown",
   "id": "8bf0b5de-3fa9-4a9f-83e8-4a7e798ce727",
   "metadata": {},
   "source": [
    "# Memory profile of decadal dynamic\n",
    "https://coderzcolumn.com/tutorials/python/how-to-profile-memory-usage-in-python-using-memory-profiler"
   ]
  },
  {
   "cell_type": "code",
   "execution_count": 1,
   "id": "e9ec0192-b2dd-4048-9d89-bb2dfab37890",
   "metadata": {},
   "outputs": [],
   "source": [
    "%load_ext memory_profiler"
   ]
  },
  {
   "cell_type": "code",
   "execution_count": 2,
   "id": "6d82872b-34b6-4283-b926-d357bd8914dc",
   "metadata": {},
   "outputs": [],
   "source": [
    "from decadal_dynamic import get_decdal_dynamic"
   ]
  },
  {
   "cell_type": "code",
   "execution_count": 3,
   "id": "24dadaac-69e1-485d-ade3-f2ffe8be33ff",
   "metadata": {},
   "outputs": [],
   "source": [
    "base_dir = \"/Users/pingu/data/cmip6-decadal/orig/mon\""
   ]
  },
  {
   "cell_type": "markdown",
   "id": "32f3f10f-ff0b-4a13-accd-0efeb2adbd9c",
   "metadata": {},
   "source": [
    "## subset one year"
   ]
  },
  {
   "cell_type": "code",
   "execution_count": 4,
   "id": "159a3469-9c8b-4458-8f62-b25ec72c5e08",
   "metadata": {},
   "outputs": [
    {
     "name": "stdout",
     "output_type": "stream",
     "text": [
      "Filename: /Users/pingu/Documents/GitHub/roocs/rook/notebooks/decadal_dynamic.py\n",
      "\n",
      "Line #    Mem usage    Increment  Occurrences   Line Contents\n",
      "=============================================================\n",
      "     7    183.6 MiB    183.6 MiB           1   @profile\n",
      "     8                                         def get_decdal_dynamic(basedir, time=None):\n",
      "     9    227.6 MiB      0.0 MiB          11       def process_one_path(path):\n",
      "    10                                                 # use a context manager, to ensure the file gets closed after use\n",
      "    11    227.9 MiB     10.5 MiB          10           with xr.open_dataset(path) as ds:\n",
      "    12                                                     # select time\n",
      "    13    227.9 MiB      0.0 MiB          10               if time is not None:\n",
      "    14    227.9 MiB      0.0 MiB          10                   ds = ds.isel(time=time)\n",
      "    15                                                     # load all data from the transformed dataset, to ensure we can\n",
      "    16                                                     # use it after closing each original file\n",
      "    17    236.4 MiB     88.7 MiB          10               ds.load()\n",
      "    18    231.4 MiB    -51.5 MiB          10               return ds\n",
      "    19                                         \n",
      "    20    183.6 MiB      0.0 MiB           1       data_dir = Path(basedir)\n",
      "    21    183.6 MiB      0.0 MiB           1       paths = sorted(data_dir.glob(\"**/*.nc\"))\n",
      "    22    231.4 MiB      0.0 MiB          13       datasets = [process_one_path(p) for p in paths]\n",
      "    23                                             # dim\n",
      "    24    231.4 MiB      0.0 MiB          13       dim_values = [ds.realization_index for ds in datasets]\n",
      "    25    231.5 MiB      0.1 MiB           1       dim = pd.Index(dim_values, name=\"realization\")\n",
      "    26                                             # concat\n",
      "    27                                             # ds_combine = xr.concat(datasets, dim=dim)\n",
      "    28    265.5 MiB     34.0 MiB           1       ds_combine = xr.combine_nested(datasets, concat_dim=dim.name)\n",
      "    29                                             # average\n",
      "    30    323.9 MiB     58.4 MiB           1       ds_avg = ds_combine.mean(dim=dim.name, skipna=True, keep_attrs=True)\n",
      "    31                                             # write output\n",
      "    32    268.7 MiB    -55.2 MiB           1       ds_avg.to_netcdf(\"out/dynamic.nc\")\n",
      "    33    268.7 MiB      0.0 MiB           1       return ds_avg\n",
      "\n",
      "\n",
      "\n"
     ]
    },
    {
     "data": {
      "text/plain": [
       "Filename: /usr/local/Caskroom/mambaforge/base/envs/rook/lib/python3.7/site-packages/memory_profiler.py\n",
       "\n",
       "Line #    Mem usage    Increment  Occurrences   Line Contents\n",
       "=============================================================\n",
       "  1183    183.6 MiB    183.6 MiB           1               @wraps(wrapped=func)\n",
       "  1184                                                     def wrapper(*args, **kwargs):\n",
       "  1185    183.6 MiB      0.0 MiB           1                   prof = get_prof()\n",
       "  1186    265.3 MiB     81.6 MiB           1                   val = prof(func)(*args, **kwargs)\n",
       "  1187    265.3 MiB      0.0 MiB           1                   show_results_bound(prof)\n",
       "  1188    265.3 MiB      0.0 MiB           1                   return val"
      ]
     },
     "metadata": {},
     "output_type": "display_data"
    }
   ],
   "source": [
    "%mprun -f get_decdal_dynamic get_decdal_dynamic(base_dir, time=slice(0, 12))"
   ]
  },
  {
   "cell_type": "markdown",
   "id": "70ff978e-a56d-465f-9ea2-fb4823aa73f1",
   "metadata": {},
   "source": [
    "## complete time range"
   ]
  },
  {
   "cell_type": "code",
   "execution_count": 5,
   "id": "ebb04a06-f757-4e3a-833c-a687d36da2a2",
   "metadata": {},
   "outputs": [
    {
     "name": "stdout",
     "output_type": "stream",
     "text": [
      "Filename: /Users/pingu/Documents/GitHub/roocs/rook/notebooks/decadal_dynamic.py\n",
      "\n",
      "Line #    Mem usage    Increment  Occurrences   Line Contents\n",
      "=============================================================\n",
      "     7    265.0 MiB    265.0 MiB           1   @profile\n",
      "     8                                         def get_decdal_dynamic(basedir, time=None):\n",
      "     9    508.2 MiB    -32.9 MiB          11       def process_one_path(path):\n",
      "    10                                                 # use a context manager, to ensure the file gets closed after use\n",
      "    11    508.3 MiB    -31.9 MiB          10           with xr.open_dataset(path) as ds:\n",
      "    12                                                     # select time\n",
      "    13    508.3 MiB    -32.8 MiB          10               if time is not None:\n",
      "    14                                                         ds = ds.isel(time=time)\n",
      "    15                                                     # load all data from the transformed dataset, to ensure we can\n",
      "    16                                                     # use it after closing each original file\n",
      "    17    599.2 MiB    822.6 MiB          10               ds.load()\n",
      "    18    542.6 MiB   -578.8 MiB          10               return ds\n",
      "    19                                         \n",
      "    20    265.0 MiB      0.0 MiB           1       data_dir = Path(basedir)\n",
      "    21    265.0 MiB      0.0 MiB           1       paths = sorted(data_dir.glob(\"**/*.nc\"))\n",
      "    22    542.6 MiB      0.0 MiB          13       datasets = [process_one_path(p) for p in paths]\n",
      "    23                                             # dim\n",
      "    24    542.6 MiB      0.0 MiB          13       dim_values = [ds.realization_index for ds in datasets]\n",
      "    25    542.6 MiB      0.0 MiB           1       dim = pd.Index(dim_values, name=\"realization\")\n",
      "    26                                             # concat\n",
      "    27                                             # ds_combine = xr.concat(datasets, dim=dim)\n",
      "    28    885.8 MiB    343.2 MiB           1       ds_combine = xr.combine_nested(datasets, concat_dim=dim.name)\n",
      "    29                                             # average\n",
      "    30   1166.4 MiB    280.6 MiB           1       ds_avg = ds_combine.mean(dim=dim.name, skipna=True, keep_attrs=True)\n",
      "    31                                             # write output\n",
      "    32    920.2 MiB   -246.2 MiB           1       ds_avg.to_netcdf(\"out/dynamic.nc\")\n",
      "    33    920.2 MiB      0.0 MiB           1       return ds_avg\n",
      "\n",
      "\n",
      "\n"
     ]
    },
    {
     "data": {
      "text/plain": [
       "Filename: /usr/local/Caskroom/mambaforge/base/envs/rook/lib/python3.7/site-packages/memory_profiler.py\n",
       "\n",
       "Line #    Mem usage    Increment  Occurrences   Line Contents\n",
       "=============================================================\n",
       "  1183    265.0 MiB    265.0 MiB           1               @wraps(wrapped=func)\n",
       "  1184                                                     def wrapper(*args, **kwargs):\n",
       "  1185    265.0 MiB      0.0 MiB           1                   prof = get_prof()\n",
       "  1186    573.9 MiB    309.0 MiB           1                   val = prof(func)(*args, **kwargs)\n",
       "  1187    573.9 MiB      0.0 MiB           1                   show_results_bound(prof)\n",
       "  1188    573.9 MiB      0.0 MiB           1                   return val"
      ]
     },
     "metadata": {},
     "output_type": "display_data"
    }
   ],
   "source": [
    "%mprun -f get_decdal_dynamic get_decdal_dynamic(base_dir, time=None)"
   ]
  }
 ],
 "metadata": {
  "kernelspec": {
   "display_name": "Python 3 (ipykernel)",
   "language": "python",
   "name": "python3"
  },
  "language_info": {
   "codemirror_mode": {
    "name": "ipython",
    "version": 3
   },
   "file_extension": ".py",
   "mimetype": "text/x-python",
   "name": "python",
   "nbconvert_exporter": "python",
   "pygments_lexer": "ipython3",
   "version": "3.7.12"
  },
  "nbTranslate": {
   "displayLangs": [
    "*"
   ],
   "hotkey": "alt-t",
   "langInMainMenu": true,
   "sourceLang": "en",
   "targetLang": "fr",
   "useGoogleTranslate": true
  }
 },
 "nbformat": 4,
 "nbformat_minor": 5
}
