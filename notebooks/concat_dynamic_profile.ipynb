{
 "cells": [
  {
   "cell_type": "code",
   "execution_count": 1,
   "id": "1d849e12-870b-47bb-b71a-e4fc46fcd06f",
   "metadata": {},
   "outputs": [],
   "source": [
    "%load_ext memory_profiler"
   ]
  },
  {
   "cell_type": "code",
   "execution_count": 2,
   "id": "6d82872b-34b6-4283-b926-d357bd8914dc",
   "metadata": {},
   "outputs": [],
   "source": [
    "from decadal_dynamic import get_decdal_dynamic"
   ]
  },
  {
   "cell_type": "markdown",
   "id": "32f3f10f-ff0b-4a13-accd-0efeb2adbd9c",
   "metadata": {},
   "source": [
    "## subset one year"
   ]
  },
  {
   "cell_type": "code",
   "execution_count": 3,
   "id": "159a3469-9c8b-4458-8f62-b25ec72c5e08",
   "metadata": {},
   "outputs": [
    {
     "name": "stdout",
     "output_type": "stream",
     "text": [
      "Filename: /Users/pingu/Documents/GitHub/roocs/rook/notebooks/decadal_dynamic.py\n",
      "\n",
      "Line #    Mem usage    Increment  Occurrences   Line Contents\n",
      "=============================================================\n",
      "     6    183.7 MiB    183.7 MiB           1   @profile\n",
      "     7                                         def get_decdal_dynamic(basedir, time=None):\n",
      "     8    226.8 MiB      0.0 MiB          11       def process_one_path(path):\n",
      "     9                                                 # use a context manager, to ensure the file gets closed after use\n",
      "    10    227.7 MiB     11.1 MiB          10           with xr.open_dataset(path) as ds:\n",
      "    11                                                     # select time\n",
      "    12    227.7 MiB      0.0 MiB          10               if time is not None:\n",
      "    13    227.7 MiB      0.0 MiB          10                   ds = ds.isel(time=time)\n",
      "    14                                                     # load all data from the transformed dataset, to ensure we can\n",
      "    15                                                     # use it after closing each original file\n",
      "    16    235.8 MiB     86.4 MiB          10               ds.load()\n",
      "    17    231.0 MiB    -50.2 MiB          10               return ds\n",
      "    18    183.7 MiB      0.0 MiB           1       data_dir = Path(basedir)\n",
      "    19    183.7 MiB      0.0 MiB           1       paths = sorted(data_dir.glob('**/*.nc'))\n",
      "    20    231.0 MiB      0.0 MiB          13       datasets = [process_one_path(p) for p in paths]\n",
      "    21                                             # dim\n",
      "    22    231.1 MiB      0.0 MiB          13       dim_values = [ds.realization_index for ds in datasets]\n",
      "    23    231.1 MiB      0.1 MiB           1       dim = pd.Index(dim_values, name=\"realization\")\n",
      "    24                                             # concat\n",
      "    25    265.1 MiB     34.0 MiB           1       ds_concat = xr.concat(datasets, dim=dim)\n",
      "    26                                             # average\n",
      "    27    324.5 MiB     59.4 MiB           1       ds_avg = ds_concat.mean(dim=dim.name, skipna=True, keep_attrs=True)\n",
      "    28                                             # write output\n",
      "    29    269.4 MiB    -55.1 MiB           1       ds_avg.to_netcdf(\"out/dynamic.nc\")\n",
      "    30    269.4 MiB      0.0 MiB           1       return ds_avg\n",
      "\n",
      "\n",
      "\n"
     ]
    },
    {
     "data": {
      "text/plain": [
       "Filename: /usr/local/Caskroom/mambaforge/base/envs/rook/lib/python3.7/site-packages/memory_profiler.py\n",
       "\n",
       "Line #    Mem usage    Increment  Occurrences   Line Contents\n",
       "=============================================================\n",
       "  1183    183.7 MiB    183.7 MiB           1               @wraps(wrapped=func)\n",
       "  1184                                                     def wrapper(*args, **kwargs):\n",
       "  1185    183.7 MiB      0.0 MiB           1                   prof = get_prof()\n",
       "  1186    266.2 MiB     82.5 MiB           1                   val = prof(func)(*args, **kwargs)\n",
       "  1187    266.2 MiB      0.0 MiB           1                   show_results_bound(prof)\n",
       "  1188    266.2 MiB      0.0 MiB           1                   return val"
      ]
     },
     "metadata": {},
     "output_type": "display_data"
    }
   ],
   "source": [
    "%mprun -f get_decdal_dynamic get_decdal_dynamic(\"/Users/pingu/data/cmip6-decadal/orig\", time=slice(0, 12))"
   ]
  },
  {
   "cell_type": "markdown",
   "id": "70ff978e-a56d-465f-9ea2-fb4823aa73f1",
   "metadata": {},
   "source": [
    "## complete time range"
   ]
  },
  {
   "cell_type": "code",
   "execution_count": 4,
   "id": "ebb04a06-f757-4e3a-833c-a687d36da2a2",
   "metadata": {},
   "outputs": [
    {
     "name": "stdout",
     "output_type": "stream",
     "text": [
      "Filename: /Users/pingu/Documents/GitHub/roocs/rook/notebooks/decadal_dynamic.py\n",
      "\n",
      "Line #    Mem usage    Increment  Occurrences   Line Contents\n",
      "=============================================================\n",
      "     6    266.0 MiB    266.0 MiB           1   @profile\n",
      "     7                                         def get_decdal_dynamic(basedir, time=None):\n",
      "     8    510.1 MiB    -32.9 MiB          11       def process_one_path(path):\n",
      "     9                                                 # use a context manager, to ensure the file gets closed after use\n",
      "    10    510.2 MiB    -32.1 MiB          10           with xr.open_dataset(path) as ds:\n",
      "    11                                                     # select time\n",
      "    12    510.2 MiB    -32.9 MiB          10               if time is not None:\n",
      "    13                                                         ds = ds.isel(time=time)\n",
      "    14                                                     # load all data from the transformed dataset, to ensure we can\n",
      "    15                                                     # use it after closing each original file\n",
      "    16    601.1 MiB    830.3 MiB          10               ds.load()\n",
      "    17    544.4 MiB   -585.6 MiB          10               return ds\n",
      "    18    266.0 MiB      0.0 MiB           1       data_dir = Path(basedir)\n",
      "    19    266.0 MiB      0.0 MiB           1       paths = sorted(data_dir.glob('**/*.nc'))\n",
      "    20    544.4 MiB      0.0 MiB          13       datasets = [process_one_path(p) for p in paths]\n",
      "    21                                             # dim\n",
      "    22    544.4 MiB      0.0 MiB          13       dim_values = [ds.realization_index for ds in datasets]\n",
      "    23    544.4 MiB      0.0 MiB           1       dim = pd.Index(dim_values, name=\"realization\")\n",
      "    24                                             # concat\n",
      "    25    887.6 MiB    343.2 MiB           1       ds_concat = xr.concat(datasets, dim=dim)\n",
      "    26                                             # average\n",
      "    27   1168.2 MiB    280.6 MiB           1       ds_avg = ds_concat.mean(dim=dim.name, skipna=True, keep_attrs=True)\n",
      "    28                                             # write output\n",
      "    29    922.8 MiB   -245.4 MiB           1       ds_avg.to_netcdf(\"out/dynamic.nc\")\n",
      "    30    922.8 MiB      0.0 MiB           1       return ds_avg\n",
      "\n",
      "\n",
      "\n"
     ]
    },
    {
     "data": {
      "text/plain": [
       "Filename: /usr/local/Caskroom/mambaforge/base/envs/rook/lib/python3.7/site-packages/memory_profiler.py\n",
       "\n",
       "Line #    Mem usage    Increment  Occurrences   Line Contents\n",
       "=============================================================\n",
       "  1183    266.0 MiB    266.0 MiB           1               @wraps(wrapped=func)\n",
       "  1184                                                     def wrapper(*args, **kwargs):\n",
       "  1185    266.0 MiB      0.0 MiB           1                   prof = get_prof()\n",
       "  1186    576.6 MiB    310.7 MiB           1                   val = prof(func)(*args, **kwargs)\n",
       "  1187    576.6 MiB      0.0 MiB           1                   show_results_bound(prof)\n",
       "  1188    576.6 MiB      0.0 MiB           1                   return val"
      ]
     },
     "metadata": {},
     "output_type": "display_data"
    }
   ],
   "source": [
    "%mprun -f get_decdal_dynamic get_decdal_dynamic(\"/Users/pingu/data/cmip6-decadal/orig\", time=None)"
   ]
  }
 ],
 "metadata": {
  "kernelspec": {
   "display_name": "Python 3 (ipykernel)",
   "language": "python",
   "name": "python3"
  },
  "language_info": {
   "codemirror_mode": {
    "name": "ipython",
    "version": 3
   },
   "file_extension": ".py",
   "mimetype": "text/x-python",
   "name": "python",
   "nbconvert_exporter": "python",
   "pygments_lexer": "ipython3",
   "version": "3.7.12"
  },
  "nbTranslate": {
   "displayLangs": [
    "*"
   ],
   "hotkey": "alt-t",
   "langInMainMenu": true,
   "sourceLang": "en",
   "targetLang": "fr",
   "useGoogleTranslate": true
  }
 },
 "nbformat": 4,
 "nbformat_minor": 5
}
