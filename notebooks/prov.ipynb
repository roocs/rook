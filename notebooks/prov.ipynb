{
 "cells": [
  {
   "cell_type": "code",
   "execution_count": null,
   "id": "1fb0099d-52d5-4125-b3a9-e6ead6ad9547",
   "metadata": {},
   "outputs": [],
   "source": [
    "from rook.provenance import Provenance"
   ]
  },
  {
   "cell_type": "code",
   "execution_count": null,
   "id": "eafb32c0-45d6-4be5-9957-69e8c1bd5402",
   "metadata": {},
   "outputs": [],
   "source": [
    "prov = Provenance(\"/tmp\")\n",
    "prov.start(workflow=True)\n",
    "prov.add_operator(\"subset\", {'time': '2010/2020'}, [\"tas_yearly.nc\"], [\"tas_2010_2020.nc\"])\n",
    "prov.add_operator(\"subset\", {'time': '2010/2012'}, [\"tas_2010_2020.nc\"], [\"tas_2010_2012.nc\"])\n",
    "prov.stop()"
   ]
  },
  {
   "cell_type": "code",
   "execution_count": null,
   "id": "49e8a094-a9c0-48fe-8c32-02b66dce19b0",
   "metadata": {},
   "outputs": [],
   "source": [
    "prov.write_png()"
   ]
  },
  {
   "cell_type": "code",
   "execution_count": null,
   "id": "28f162df-76fe-4962-bd3e-88f2f9d52223",
   "metadata": {},
   "outputs": [],
   "source": [
    "str(prov.identifier)"
   ]
  },
  {
   "cell_type": "code",
   "execution_count": null,
   "id": "c50f3398-d85c-41a3-8707-14aaf8e2f925",
   "metadata": {},
   "outputs": [],
   "source": [
    "print(prov.get_provn())"
   ]
  },
  {
   "cell_type": "code",
   "execution_count": null,
   "id": "dbae262e-7746-451c-b411-684345ec1934",
   "metadata": {},
   "outputs": [],
   "source": [
    "print(prov.dump_json())"
   ]
  }
 ],
 "metadata": {
  "kernelspec": {
   "display_name": "Python 3",
   "language": "python",
   "name": "python3"
  },
  "language_info": {
   "codemirror_mode": {
    "name": "ipython",
    "version": 3
   },
   "file_extension": ".py",
   "mimetype": "text/x-python",
   "name": "python",
   "nbconvert_exporter": "python",
   "pygments_lexer": "ipython3",
   "version": "3.7.10"
  }
 },
 "nbformat": 4,
 "nbformat_minor": 5
}
