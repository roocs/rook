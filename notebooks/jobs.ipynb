{
 "cells": [
  {
   "cell_type": "code",
   "execution_count": null,
   "id": "271ceeca-9ab5-4d02-9f4c-21ade5505401",
   "metadata": {},
   "outputs": [],
   "source": [
    "url = \"http://rook3.cloud.dkrz.de:80/outputs/rook/9963ecd6-cde8-11eb-bb2b-fa163e466023/wps_requests.csv\""
   ]
  },
  {
   "cell_type": "code",
   "execution_count": null,
   "id": "085ee7da-e95d-4551-a4ab-431f66cd6a0f",
   "metadata": {},
   "outputs": [],
   "source": [
    "import pandas as pd\n",
    "import pandas_bokeh"
   ]
  },
  {
   "cell_type": "code",
   "execution_count": null,
   "id": "3a3f8791-56b2-464b-96ff-16d8d307228c",
   "metadata": {},
   "outputs": [],
   "source": [
    "df = pd.read_csv(url, parse_dates=[4, 5])"
   ]
  },
  {
   "cell_type": "code",
   "execution_count": null,
   "id": "e4fd8c38-1384-43e0-8da8-c9bb5a684629",
   "metadata": {},
   "outputs": [],
   "source": [
    "gdf = df.groupby(pd.Grouper(key=\"time_start\", freq=\"1D\")).count()\n",
    "pdf = pd.DataFrame()\n",
    "pdf[\"Date\"] = pd.to_datetime(gdf.index)\n",
    "pdf[\"Jobs\"] = gdf.uuid.values\n",
    "pdf.sort_values(by='Date', ascending=True)\n",
    "plot = pdf.plot_bokeh(\n",
    "        title=\"Jobs per day\",\n",
    "        kind=\"line\",\n",
    "        x=\"Date\",\n",
    "        y=\"Jobs\",\n",
    "        show_figure=False,\n",
    "        return_html=True,\n",
    "    )"
   ]
  },
  {
   "cell_type": "code",
   "execution_count": null,
   "id": "5a772e3d-d7ea-4952-a9c0-c01423935a94",
   "metadata": {},
   "outputs": [],
   "source": [
    "import IPython\n",
    "IPython.display.HTML(plot)"
   ]
  },
  {
   "cell_type": "code",
   "execution_count": null,
   "id": "7fb611a4-e1e4-490f-99bd-90ba4a7b7b4c",
   "metadata": {},
   "outputs": [],
   "source": [
    "from bokeh.plotting import figure\n",
    "from bokeh.models import ColumnDataSource"
   ]
  },
  {
   "cell_type": "code",
   "execution_count": null,
   "id": "181c8f37-fadd-4c8e-a817-303e29ca4991",
   "metadata": {},
   "outputs": [],
   "source": [
    "plot = figure(title=\"Jobs per day\")"
   ]
  },
  {
   "cell_type": "code",
   "execution_count": null,
   "id": "0c986a68-a89b-4b2c-a538-5fad46bf6c28",
   "metadata": {},
   "outputs": [],
   "source": [
    "plot.varea(\n",
    "    x=\"Date\", y1=\"Jobs\", y2=0,\n",
    "    source=ColumnDataSource(pdf)\n",
    ")\n"
   ]
  },
  {
   "cell_type": "code",
   "execution_count": null,
   "id": "80a3722d-0b26-4991-8ef0-1c22f469e61b",
   "metadata": {},
   "outputs": [],
   "source": [
    "from bokeh.io import show\n",
    "show(plot)"
   ]
  }
 ],
 "metadata": {
  "kernelspec": {
   "display_name": "Python 3",
   "language": "python",
   "name": "python3"
  },
  "language_info": {
   "codemirror_mode": {
    "name": "ipython",
    "version": 3
   },
   "file_extension": ".py",
   "mimetype": "text/x-python",
   "name": "python",
   "nbconvert_exporter": "python",
   "pygments_lexer": "ipython3",
   "version": "3.7.10"
  }
 },
 "nbformat": 4,
 "nbformat_minor": 5
}
