{
 "cells": [
  {
   "cell_type": "markdown",
   "id": "ee8772f8-cff7-4602-bec8-cd17535c7e6b",
   "metadata": {},
   "source": [
    "# Concat Operator\n",
    "\n",
    "* https://xarray.pydata.org/en/stable/user-guide/combining.html"
   ]
  },
  {
   "cell_type": "code",
   "execution_count": null,
   "id": "9d4bdd81-21f9-4a10-ad67-d9462234ad06",
   "metadata": {},
   "outputs": [],
   "source": [
    "import xarray as xr\n",
    "import pandas as pd"
   ]
  },
  {
   "cell_type": "code",
   "execution_count": null,
   "id": "8a00872f-7da6-45a6-b7b8-4623663fd277",
   "metadata": {},
   "outputs": [],
   "source": [
    "from pathlib import Path\n",
    "data_dir = Path(\"/Users/pingu/data/cmip6-decadal\")"
   ]
  },
  {
   "cell_type": "code",
   "execution_count": null,
   "id": "1043f73e-30cf-4edc-8254-5a5ac4cda70d",
   "metadata": {},
   "outputs": [],
   "source": [
    "cmip6_files = list(data_dir.glob('**/*.nc'))\n",
    "cmip6_files.sort()\n",
    "cmip6_files"
   ]
  },
  {
   "cell_type": "code",
   "execution_count": null,
   "id": "156c1db3-8999-41f9-b809-a33a10b84aa9",
   "metadata": {},
   "outputs": [],
   "source": [
    "ds0 = xr.open_dataset(cmip6_files[0])\n",
    "ds0"
   ]
  },
  {
   "cell_type": "code",
   "execution_count": null,
   "id": "4f549b1a-722d-4571-9abb-203b708f0656",
   "metadata": {},
   "outputs": [],
   "source": [
    "ds1 = xr.open_dataset(cmip6_files[0])\n",
    "ds1"
   ]
  },
  {
   "cell_type": "code",
   "execution_count": null,
   "id": "680ef3ae-b281-485a-8a75-997476e87a9e",
   "metadata": {},
   "outputs": [],
   "source": [
    "ds_concat = xr.concat([ds0, ds1], dim=pd.Index([0, 1], name=\"realization\"))\n",
    "ds_concat"
   ]
  },
  {
   "cell_type": "code",
   "execution_count": null,
   "id": "8286b4ce-72d2-49ad-ac7b-693bb3599068",
   "metadata": {},
   "outputs": [],
   "source": [
    "ds_concat.realization"
   ]
  },
  {
   "cell_type": "markdown",
   "id": "3c62a521-f2fd-4cff-a5e2-0d3666d412c5",
   "metadata": {},
   "source": [
    "## use open_mfdataset"
   ]
  },
  {
   "cell_type": "code",
   "execution_count": null,
   "id": "aa53cb8b-f1df-41de-ac38-93c7f828af4f",
   "metadata": {},
   "outputs": [],
   "source": [
    "ds_agg = xr.open_mfdataset(cmip6_files, concat_dim=\"realization\", combine=\"nested\")\n",
    "ds_agg"
   ]
  },
  {
   "cell_type": "code",
   "execution_count": null,
   "id": "cdea2baa-1158-4d25-9523-047fe8ba3074",
   "metadata": {},
   "outputs": [],
   "source": [
    "ds_agg.isel(realization=0)"
   ]
  }
 ],
 "metadata": {
  "kernelspec": {
   "display_name": "Python 3 (ipykernel)",
   "language": "python",
   "name": "python3"
  },
  "language_info": {
   "codemirror_mode": {
    "name": "ipython",
    "version": 3
   },
   "file_extension": ".py",
   "mimetype": "text/x-python",
   "name": "python",
   "nbconvert_exporter": "python",
   "pygments_lexer": "ipython3",
   "version": "3.7.12"
  }
 },
 "nbformat": 4,
 "nbformat_minor": 5
}
