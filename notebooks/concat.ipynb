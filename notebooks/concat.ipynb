{
 "cells": [
  {
   "cell_type": "markdown",
   "id": "ee8772f8-cff7-4602-bec8-cd17535c7e6b",
   "metadata": {},
   "source": [
    "# Concat Operator\n",
    "\n",
    "* https://xarray.pydata.org/en/stable/user-guide/combining.html\n",
    "* https://xarray.pydata.org/en/stable/user-guide/io.html#reading-multi-file-datasets"
   ]
  },
  {
   "cell_type": "code",
   "execution_count": null,
   "id": "9d4bdd81-21f9-4a10-ad67-d9462234ad06",
   "metadata": {},
   "outputs": [],
   "source": [
    "import xarray as xr\n",
    "import pandas as pd"
   ]
  },
  {
   "cell_type": "code",
   "execution_count": null,
   "id": "8a00872f-7da6-45a6-b7b8-4623663fd277",
   "metadata": {},
   "outputs": [],
   "source": [
    "from pathlib import Path\n",
    "data_dir = Path(\"/Users/pingu/data/cmip6-decadal\")"
   ]
  },
  {
   "cell_type": "code",
   "execution_count": null,
   "id": "1043f73e-30cf-4edc-8254-5a5ac4cda70d",
   "metadata": {},
   "outputs": [],
   "source": [
    "cmip6_files = sorted(data_dir.glob('**/*.nc'))\n",
    "cmip6_files"
   ]
  },
  {
   "cell_type": "code",
   "execution_count": null,
   "id": "156c1db3-8999-41f9-b809-a33a10b84aa9",
   "metadata": {},
   "outputs": [],
   "source": [
    "ds0 = xr.open_dataset(cmip6_files[0])\n",
    "ds0"
   ]
  },
  {
   "cell_type": "code",
   "execution_count": null,
   "id": "3737b74d-7879-4f60-b857-7ae4b0b8fb2d",
   "metadata": {},
   "outputs": [],
   "source": [
    "ds0.realization_index"
   ]
  },
  {
   "cell_type": "code",
   "execution_count": null,
   "id": "16812b3e-6e87-4754-b27c-9bcc4653fb60",
   "metadata": {},
   "outputs": [],
   "source": [
    "datasets = [xr.open_dataset(f) for f in cmip6_files]\n",
    "len(datasets)"
   ]
  },
  {
   "cell_type": "code",
   "execution_count": null,
   "id": "8cdee6e1-7708-407e-9c68-5103a7b344d6",
   "metadata": {},
   "outputs": [],
   "source": [
    "realization_values = [ds.realization_index for ds in datasets]\n",
    "realization_values"
   ]
  },
  {
   "cell_type": "code",
   "execution_count": null,
   "id": "77284d9e-6ac0-48f8-919c-80b181cacd23",
   "metadata": {},
   "outputs": [],
   "source": [
    "realization_dim = pd.Index(realization_values, name=\"realization\")"
   ]
  },
  {
   "cell_type": "code",
   "execution_count": null,
   "id": "680ef3ae-b281-485a-8a75-997476e87a9e",
   "metadata": {},
   "outputs": [],
   "source": [
    "ds_concat = xr.concat(datasets, dim=realization_dim)\n",
    "ds_concat"
   ]
  },
  {
   "cell_type": "code",
   "execution_count": null,
   "id": "cdea2baa-1158-4d25-9523-047fe8ba3074",
   "metadata": {},
   "outputs": [],
   "source": [
    "ds_concat.isel(realization=0)"
   ]
  }
 ],
 "metadata": {
  "kernelspec": {
   "display_name": "Python 3 (ipykernel)",
   "language": "python",
   "name": "python3"
  },
  "language_info": {
   "codemirror_mode": {
    "name": "ipython",
    "version": 3
   },
   "file_extension": ".py",
   "mimetype": "text/x-python",
   "name": "python",
   "nbconvert_exporter": "python",
   "pygments_lexer": "ipython3",
   "version": "3.7.12"
  }
 },
 "nbformat": 4,
 "nbformat_minor": 5
}
