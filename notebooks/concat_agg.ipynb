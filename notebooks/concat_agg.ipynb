{
 "cells": [
  {
   "cell_type": "markdown",
   "id": "ee8772f8-cff7-4602-bec8-cd17535c7e6b",
   "metadata": {},
   "source": [
    "# Concat with open_mfdataset\n",
    "\n",
    "* https://xarray.pydata.org/en/stable/user-guide/combining.html\n",
    "* https://xarray.pydata.org/en/stable/user-guide/io.html#reading-multi-file-datasets"
   ]
  },
  {
   "cell_type": "code",
   "execution_count": 1,
   "id": "9d4bdd81-21f9-4a10-ad67-d9462234ad06",
   "metadata": {},
   "outputs": [],
   "source": [
    "import xarray as xr\n",
    "import pandas as pd\n",
    "#from memory_profiler import profile"
   ]
  },
  {
   "cell_type": "code",
   "execution_count": 2,
   "id": "2d5ddb09-0694-40eb-a04b-454df7b45070",
   "metadata": {},
   "outputs": [],
   "source": [
    "#%load_ext memory_profiler"
   ]
  },
  {
   "cell_type": "code",
   "execution_count": 3,
   "id": "8a00872f-7da6-45a6-b7b8-4623663fd277",
   "metadata": {},
   "outputs": [],
   "source": [
    "from pathlib import Path\n",
    "data_dir = Path(\"/Users/pingu/data/cmip6-decadal/orig/day\")"
   ]
  },
  {
   "cell_type": "code",
   "execution_count": 4,
   "id": "1043f73e-30cf-4edc-8254-5a5ac4cda70d",
   "metadata": {},
   "outputs": [
    {
     "data": {
      "text/plain": [
       "[PosixPath('/Users/pingu/data/cmip6-decadal/orig/day/tas_day_MPI-ESM1-2-HR_dcppA-hindcast_s1970-r10i1p1f1_gn_19701101-19801231.nc'),\n",
       " PosixPath('/Users/pingu/data/cmip6-decadal/orig/day/tas_day_MPI-ESM1-2-HR_dcppA-hindcast_s1970-r1i1p1f1_gn_19701101-19801231.nc'),\n",
       " PosixPath('/Users/pingu/data/cmip6-decadal/orig/day/tas_day_MPI-ESM1-2-HR_dcppA-hindcast_s1970-r2i1p1f1_gn_19701101-19801231.nc'),\n",
       " PosixPath('/Users/pingu/data/cmip6-decadal/orig/day/tas_day_MPI-ESM1-2-HR_dcppA-hindcast_s1970-r3i1p1f1_gn_19701101-19801231.nc'),\n",
       " PosixPath('/Users/pingu/data/cmip6-decadal/orig/day/tas_day_MPI-ESM1-2-HR_dcppA-hindcast_s1970-r4i1p1f1_gn_19701101-19801231.nc'),\n",
       " PosixPath('/Users/pingu/data/cmip6-decadal/orig/day/tas_day_MPI-ESM1-2-HR_dcppA-hindcast_s1970-r5i1p1f1_gn_19701101-19801231.nc'),\n",
       " PosixPath('/Users/pingu/data/cmip6-decadal/orig/day/tas_day_MPI-ESM1-2-HR_dcppA-hindcast_s1970-r6i1p1f1_gn_19701101-19801231.nc'),\n",
       " PosixPath('/Users/pingu/data/cmip6-decadal/orig/day/tas_day_MPI-ESM1-2-HR_dcppA-hindcast_s1970-r7i1p1f1_gn_19701101-19801231.nc'),\n",
       " PosixPath('/Users/pingu/data/cmip6-decadal/orig/day/tas_day_MPI-ESM1-2-HR_dcppA-hindcast_s1970-r8i1p1f1_gn_19701101-19801231.nc'),\n",
       " PosixPath('/Users/pingu/data/cmip6-decadal/orig/day/tas_day_MPI-ESM1-2-HR_dcppA-hindcast_s1970-r9i1p1f1_gn_19701101-19801231.nc')]"
      ]
     },
     "execution_count": 4,
     "metadata": {},
     "output_type": "execute_result"
    }
   ],
   "source": [
    "cmip6_files = sorted(data_dir.glob('**/*.nc'))\n",
    "cmip6_files"
   ]
  },
  {
   "cell_type": "markdown",
   "id": "028fb109-0d84-427c-8a8f-85b2028b7198",
   "metadata": {},
   "source": [
    "## use open_mfdataset"
   ]
  },
  {
   "cell_type": "code",
   "execution_count": 5,
   "id": "b8c7f5d8-83b2-44b1-a76a-7983c46277bd",
   "metadata": {},
   "outputs": [],
   "source": [
    "# @profile\n",
    "def doit():\n",
    "    ds = xr.open_mfdataset(\n",
    "        cmip6_files, \n",
    "        concat_dim=\"realization\", \n",
    "        combine='nested', \n",
    "        chunks={\"realization\": 10, \"time\": 10}, \n",
    "        # parallel=True,\n",
    "        # preprocess=lambda ds: ds.isel(time=0)\n",
    "    )\n",
    "    ds = ds.mean(dim=\"realization\", skipna=True, keep_attrs=True)\n",
    "    ds = ds.isel(time=slice(0,360))\n",
    "    ds.to_netcdf(\"out/cmip6_decdal_agg.nc\")"
   ]
  },
  {
   "cell_type": "code",
   "execution_count": 6,
   "id": "eba12ca4-6d36-44f2-8b2e-9acfb93062ef",
   "metadata": {},
   "outputs": [],
   "source": [
    "#%memit doit()\n",
    "doit()"
   ]
  }
 ],
 "metadata": {
  "kernelspec": {
   "display_name": "Python 3 (ipykernel)",
   "language": "python",
   "name": "python3"
  },
  "language_info": {
   "codemirror_mode": {
    "name": "ipython",
    "version": 3
   },
   "file_extension": ".py",
   "mimetype": "text/x-python",
   "name": "python",
   "nbconvert_exporter": "python",
   "pygments_lexer": "ipython3",
   "version": "3.7.12"
  }
 },
 "nbformat": 4,
 "nbformat_minor": 5
}
